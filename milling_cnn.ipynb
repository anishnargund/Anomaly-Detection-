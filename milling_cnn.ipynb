{
  "nbformat": 4,
  "nbformat_minor": 0,
  "metadata": {
    "colab": {
      "name": "milling_cnn.ipynb",
      "provenance": [],
      "collapsed_sections": []
    },
    "kernelspec": {
      "name": "python3",
      "display_name": "Python 3"
    }
  },
  "cells": [
    {
      "cell_type": "code",
      "metadata": {
        "id": "-bvSH29Nr-dq",
        "colab_type": "code",
        "colab": {
          "base_uri": "https://localhost:8080/",
          "height": 34
        },
        "outputId": "3ca27de8-8a49-40bc-cf38-2622156542a1"
      },
      "source": [
        "import pandas as pd\n",
        "import numpy as np\n",
        "import seaborn as sns\n",
        "import matplotlib.pyplot as plt\n",
        "from mlxtend. plotting import plot_confusion_matrix\n",
        "from sklearn.metrics import confusion_matrix\n",
        "import matplotlib\n",
        "import mlxtend                                                          \n",
        "print(mlxtend.__version__)  \n",
        "\n",
        "import tensorflow as tf\n",
        "from tensorflow import keras\n",
        "from tensorflow.keras.models import Sequential\n",
        "from tensorflow.keras.optimizers import Adam\n",
        "from tensorflow.keras.layers import Dense, Conv1D, Flatten, Dropout, MaxPool1D, BatchNormalization\n",
        "from tensorflow.keras.preprocessing.image import ImageDataGenerator\n",
        "from sklearn.model_selection import train_test_split\n",
        "from sklearn.preprocessing import StandardScaler\n",
        "from sklearn.metrics import classification_report"
      ],
      "execution_count": 2,
      "outputs": [
        {
          "output_type": "stream",
          "text": [
            "0.17.3\n"
          ],
          "name": "stdout"
        }
      ]
    },
    {
      "cell_type": "code",
      "metadata": {
        "id": "9H5VloE54R1m",
        "colab_type": "code",
        "colab": {
          "base_uri": "https://localhost:8080/",
          "height": 34
        },
        "outputId": "ba2a4f3f-fe25-4b12-b2d7-1731d36abbdc"
      },
      "source": [
        "from google.colab import drive\n",
        "drive.mount('/content/drive')"
      ],
      "execution_count": 3,
      "outputs": [
        {
          "output_type": "stream",
          "text": [
            "Drive already mounted at /content/drive; to attempt to forcibly remount, call drive.mount(\"/content/drive\", force_remount=True).\n"
          ],
          "name": "stdout"
        }
      ]
    },
    {
      "cell_type": "code",
      "metadata": {
        "id": "FLmeVgIE1c59",
        "colab_type": "code",
        "colab": {}
      },
      "source": [
        "df1 = pd.read_csv('/content/drive/My Drive/N.csv')\n",
        "df2 = pd.read_csv('/content/drive/My Drive/F.csv')\n",
        "df2 = df2.sample(4000)\n",
        "data = df1.append(df2,ignore_index= True)"
      ],
      "execution_count": 4,
      "outputs": []
    },
    {
      "cell_type": "code",
      "metadata": {
        "id": "uRXzMEtx3xJC",
        "colab_type": "code",
        "colab": {
          "base_uri": "https://localhost:8080/",
          "height": 34
        },
        "outputId": "bcf3ce27-9926-415a-9af2-11ba9b29466a"
      },
      "source": [
        "data.shape"
      ],
      "execution_count": 5,
      "outputs": [
        {
          "output_type": "execute_result",
          "data": {
            "text/plain": [
              "(15978, 48)"
            ]
          },
          "metadata": {
            "tags": []
          },
          "execution_count": 5
        }
      ]
    },
    {
      "cell_type": "code",
      "metadata": {
        "id": "SZpjsrsg4Idi",
        "colab_type": "code",
        "colab": {
          "base_uri": "https://localhost:8080/",
          "height": 840
        },
        "outputId": "0e79bcbe-4190-435d-9cb6-87627e4cdc4f"
      },
      "source": [
        "data.isnull().sum()"
      ],
      "execution_count": 6,
      "outputs": [
        {
          "output_type": "execute_result",
          "data": {
            "text/plain": [
              "X1_ActualPosition            0\n",
              "X1_ActualVelocity            0\n",
              "X1_ActualAcceleration        0\n",
              "X1_CommandPosition           0\n",
              "X1_CommandVelocity           0\n",
              "X1_CommandAcceleration       0\n",
              "X1_CurrentFeedback           0\n",
              "X1_DCBusVoltage              0\n",
              "X1_OutputCurrent             0\n",
              "X1_OutputVoltage             0\n",
              "X1_OutputPower               0\n",
              "Y1_ActualPosition            0\n",
              "Y1_ActualVelocity            0\n",
              "Y1_ActualAcceleration        0\n",
              "Y1_CommandPosition           0\n",
              "Y1_CommandVelocity           0\n",
              "Y1_CommandAcceleration       0\n",
              "Y1_CurrentFeedback           0\n",
              "Y1_DCBusVoltage              0\n",
              "Y1_OutputCurrent             0\n",
              "Y1_OutputVoltage             0\n",
              "Y1_OutputPower               0\n",
              "Z1_ActualPosition            0\n",
              "Z1_ActualVelocity            0\n",
              "Z1_ActualAcceleration        0\n",
              "Z1_CommandPosition           0\n",
              "Z1_CommandVelocity           0\n",
              "Z1_CommandAcceleration       0\n",
              "Z1_CurrentFeedback           0\n",
              "Z1_DCBusVoltage              0\n",
              "Z1_OutputCurrent             0\n",
              "Z1_OutputVoltage             0\n",
              "S1_ActualPosition            0\n",
              "S1_ActualVelocity            0\n",
              "S1_ActualAcceleration        0\n",
              "S1_CommandPosition           0\n",
              "S1_CommandVelocity           0\n",
              "S1_CommandAcceleration       0\n",
              "S1_CurrentFeedback           0\n",
              "S1_DCBusVoltage              0\n",
              "S1_OutputCurrent             0\n",
              "S1_OutputVoltage             0\n",
              "S1_OutputPower               0\n",
              "S1_SystemInertia             0\n",
              "M1_CURRENT_PROGRAM_NUMBER    0\n",
              "M1_sequence_number           0\n",
              "M1_CURRENT_FEEDRATE          0\n",
              "class                        0\n",
              "dtype: int64"
            ]
          },
          "metadata": {
            "tags": []
          },
          "execution_count": 6
        }
      ]
    },
    {
      "cell_type": "code",
      "metadata": {
        "id": "1ao1FQCF4Ssg",
        "colab_type": "code",
        "colab": {
          "base_uri": "https://localhost:8080/",
          "height": 67
        },
        "outputId": "ab946b8d-de53-4849-c565-38ed96967cad"
      },
      "source": [
        "data['class'].value_counts()"
      ],
      "execution_count": 7,
      "outputs": [
        {
          "output_type": "execute_result",
          "data": {
            "text/plain": [
              "0    11978\n",
              "1     4000\n",
              "Name: class, dtype: int64"
            ]
          },
          "metadata": {
            "tags": []
          },
          "execution_count": 7
        }
      ]
    },
    {
      "cell_type": "code",
      "metadata": {
        "id": "ha_-eRK54oEr",
        "colab_type": "code",
        "colab": {
          "base_uri": "https://localhost:8080/",
          "height": 34
        },
        "outputId": "e38d0b67-2f07-4f37-9e2d-93d9f7a49049"
      },
      "source": [
        "normal = data[data['class']==0]\n",
        "faulty = data[data['class']==1]\n",
        "normal.shape, faulty.shape"
      ],
      "execution_count": 8,
      "outputs": [
        {
          "output_type": "execute_result",
          "data": {
            "text/plain": [
              "((11978, 48), (4000, 48))"
            ]
          },
          "metadata": {
            "tags": []
          },
          "execution_count": 8
        }
      ]
    },
    {
      "cell_type": "code",
      "metadata": {
        "id": "J_K5mWTA6KlK",
        "colab_type": "code",
        "colab": {
          "base_uri": "https://localhost:8080/",
          "height": 34
        },
        "outputId": "518bb1a1-c571-4ebd-b89a-48e39496867d"
      },
      "source": [
        "X = data.drop('class', axis = 1)\n",
        "y = data['class']\n",
        "X_train, X_test,y_train,y_test = train_test_split(X,y,test_size = 0.25, random_state = 0, stratify =y)\n",
        "X_train.shape, X_test.shape, y_train.shape, y_test.shape"
      ],
      "execution_count": 9,
      "outputs": [
        {
          "output_type": "execute_result",
          "data": {
            "text/plain": [
              "((11983, 47), (3995, 47), (11983,), (3995,))"
            ]
          },
          "metadata": {
            "tags": []
          },
          "execution_count": 9
        }
      ]
    },
    {
      "cell_type": "code",
      "metadata": {
        "id": "ZFh8kM9W7orf",
        "colab_type": "code",
        "colab": {}
      },
      "source": [
        "scaler = StandardScaler()\n",
        "X_train = scaler.fit_transform(X_train)\n",
        "X_test = scaler.transform(X_test)\n",
        "y_train = y_train.to_numpy()\n",
        "y_test = y_test.to_numpy()"
      ],
      "execution_count": 10,
      "outputs": []
    },
    {
      "cell_type": "code",
      "metadata": {
        "id": "Yt4ibcMl9jGl",
        "colab_type": "code",
        "colab": {
          "base_uri": "https://localhost:8080/",
          "height": 34
        },
        "outputId": "7f5b7760-bf7b-43dd-c6ad-76136e2b75a1"
      },
      "source": [
        "X_train.shape"
      ],
      "execution_count": 11,
      "outputs": [
        {
          "output_type": "execute_result",
          "data": {
            "text/plain": [
              "(11983, 47)"
            ]
          },
          "metadata": {
            "tags": []
          },
          "execution_count": 11
        }
      ]
    },
    {
      "cell_type": "code",
      "metadata": {
        "id": "iDUKQxwY8Uvy",
        "colab_type": "code",
        "colab": {
          "base_uri": "https://localhost:8080/",
          "height": 34
        },
        "outputId": "010f2902-7fd7-46ae-c09b-4d7e5d58cbd6"
      },
      "source": [
        "X_train = X_train.reshape(X_train.shape[0], X_train.shape[1],1)\n",
        "X_test = X_test.reshape(X_test.shape[0], X_test.shape[1],1)\n",
        "X_train.shape, X_test.shape"
      ],
      "execution_count": 12,
      "outputs": [
        {
          "output_type": "execute_result",
          "data": {
            "text/plain": [
              "((11983, 47, 1), (3995, 47, 1))"
            ]
          },
          "metadata": {
            "tags": []
          },
          "execution_count": 12
        }
      ]
    },
    {
      "cell_type": "markdown",
      "metadata": {
        "id": "gSrCsLE6kWNK",
        "colab_type": "text"
      },
      "source": [
        "**Model**"
      ]
    },
    {
      "cell_type": "code",
      "metadata": {
        "id": "yd9YAjlH9O1D",
        "colab_type": "code",
        "colab": {}
      },
      "source": [
        "model = Sequential()\n",
        "model.add(Conv1D(16,2,activation='relu', input_shape = X_train[0].shape))\n",
        "model.add(MaxPool1D(2))\n",
        "model.add(BatchNormalization())\n",
        "model.add(Conv1D(128,2,activation='relu'))\n",
        "model.add(BatchNormalization())\n",
        "model.add(MaxPool1D(2))\n",
        "model.add(Dropout(0.2))\n",
        "model.add(Flatten())\n",
        "model.add(Dense(128, activation = 'relu'))\n",
        "model.add(Dropout(0.2))\n",
        "model.add(Dense(1, activation='sigmoid'))"
      ],
      "execution_count": 13,
      "outputs": []
    },
    {
      "cell_type": "code",
      "metadata": {
        "id": "d2WNJbac_QQF",
        "colab_type": "code",
        "colab": {
          "base_uri": "https://localhost:8080/",
          "height": 521
        },
        "outputId": "9636c818-01ab-4d2f-9484-0f67c84b443e"
      },
      "source": [
        "model.summary()"
      ],
      "execution_count": 14,
      "outputs": [
        {
          "output_type": "stream",
          "text": [
            "Model: \"sequential\"\n",
            "_________________________________________________________________\n",
            "Layer (type)                 Output Shape              Param #   \n",
            "=================================================================\n",
            "conv1d (Conv1D)              (None, 46, 16)            48        \n",
            "_________________________________________________________________\n",
            "max_pooling1d (MaxPooling1D) (None, 23, 16)            0         \n",
            "_________________________________________________________________\n",
            "batch_normalization (BatchNo (None, 23, 16)            64        \n",
            "_________________________________________________________________\n",
            "conv1d_1 (Conv1D)            (None, 22, 128)           4224      \n",
            "_________________________________________________________________\n",
            "batch_normalization_1 (Batch (None, 22, 128)           512       \n",
            "_________________________________________________________________\n",
            "max_pooling1d_1 (MaxPooling1 (None, 11, 128)           0         \n",
            "_________________________________________________________________\n",
            "dropout (Dropout)            (None, 11, 128)           0         \n",
            "_________________________________________________________________\n",
            "flatten (Flatten)            (None, 1408)              0         \n",
            "_________________________________________________________________\n",
            "dense (Dense)                (None, 128)               180352    \n",
            "_________________________________________________________________\n",
            "dropout_1 (Dropout)          (None, 128)               0         \n",
            "_________________________________________________________________\n",
            "dense_1 (Dense)              (None, 1)                 129       \n",
            "=================================================================\n",
            "Total params: 185,329\n",
            "Trainable params: 185,041\n",
            "Non-trainable params: 288\n",
            "_________________________________________________________________\n"
          ],
          "name": "stdout"
        }
      ]
    },
    {
      "cell_type": "code",
      "metadata": {
        "id": "aniuEuAMAxTP",
        "colab_type": "code",
        "colab": {}
      },
      "source": [
        "model.compile(optimizer=Adam(lr = 0.001), loss = 'binary_crossentropy', metrics = ['accuracy'])"
      ],
      "execution_count": 15,
      "outputs": []
    },
    {
      "cell_type": "code",
      "metadata": {
        "id": "vjCQzD66BZKU",
        "colab_type": "code",
        "colab": {
          "base_uri": "https://localhost:8080/",
          "height": 689
        },
        "outputId": "61b39acf-0f06-4c05-d952-6947f1dc373d"
      },
      "source": [
        "history = model.fit(X_train, y_train, epochs= 20, validation_data=(X_test, y_test), verbose=1)"
      ],
      "execution_count": 16,
      "outputs": [
        {
          "output_type": "stream",
          "text": [
            "Epoch 1/20\n",
            "375/375 [==============================] - 4s 10ms/step - loss: 0.5607 - accuracy: 0.7657 - val_loss: 0.4887 - val_accuracy: 0.7845\n",
            "Epoch 2/20\n",
            "375/375 [==============================] - 4s 9ms/step - loss: 0.4666 - accuracy: 0.7959 - val_loss: 0.4415 - val_accuracy: 0.8073\n",
            "Epoch 3/20\n",
            "375/375 [==============================] - 4s 9ms/step - loss: 0.4316 - accuracy: 0.8071 - val_loss: 0.4228 - val_accuracy: 0.8155\n",
            "Epoch 4/20\n",
            "375/375 [==============================] - 3s 9ms/step - loss: 0.4117 - accuracy: 0.8191 - val_loss: 0.4077 - val_accuracy: 0.8233\n",
            "Epoch 5/20\n",
            "375/375 [==============================] - 4s 10ms/step - loss: 0.3887 - accuracy: 0.8277 - val_loss: 0.3837 - val_accuracy: 0.8373\n",
            "Epoch 6/20\n",
            "375/375 [==============================] - 4s 10ms/step - loss: 0.3745 - accuracy: 0.8329 - val_loss: 0.3804 - val_accuracy: 0.8343\n",
            "Epoch 7/20\n",
            "375/375 [==============================] - 4s 10ms/step - loss: 0.3563 - accuracy: 0.8438 - val_loss: 0.3701 - val_accuracy: 0.8423\n",
            "Epoch 8/20\n",
            "375/375 [==============================] - 3s 9ms/step - loss: 0.3481 - accuracy: 0.8455 - val_loss: 0.3650 - val_accuracy: 0.8448\n",
            "Epoch 9/20\n",
            "375/375 [==============================] - 4s 9ms/step - loss: 0.3329 - accuracy: 0.8554 - val_loss: 0.3447 - val_accuracy: 0.8566\n",
            "Epoch 10/20\n",
            "375/375 [==============================] - 4s 10ms/step - loss: 0.3242 - accuracy: 0.8565 - val_loss: 0.3757 - val_accuracy: 0.8436\n",
            "Epoch 11/20\n",
            "375/375 [==============================] - 4s 9ms/step - loss: 0.3065 - accuracy: 0.8645 - val_loss: 0.3270 - val_accuracy: 0.8643\n",
            "Epoch 12/20\n",
            "375/375 [==============================] - 4s 10ms/step - loss: 0.3045 - accuracy: 0.8664 - val_loss: 0.3331 - val_accuracy: 0.8581\n",
            "Epoch 13/20\n",
            "375/375 [==============================] - 4s 9ms/step - loss: 0.2915 - accuracy: 0.8715 - val_loss: 0.3251 - val_accuracy: 0.8616\n",
            "Epoch 14/20\n",
            "375/375 [==============================] - 4s 9ms/step - loss: 0.2802 - accuracy: 0.8772 - val_loss: 0.3565 - val_accuracy: 0.8591\n",
            "Epoch 15/20\n",
            "375/375 [==============================] - 4s 9ms/step - loss: 0.2775 - accuracy: 0.8800 - val_loss: 0.3250 - val_accuracy: 0.8698\n",
            "Epoch 16/20\n",
            "375/375 [==============================] - 4s 10ms/step - loss: 0.2689 - accuracy: 0.8844 - val_loss: 0.3171 - val_accuracy: 0.8673\n",
            "Epoch 17/20\n",
            "375/375 [==============================] - 3s 9ms/step - loss: 0.2670 - accuracy: 0.8856 - val_loss: 0.3187 - val_accuracy: 0.8721\n",
            "Epoch 18/20\n",
            "375/375 [==============================] - 4s 9ms/step - loss: 0.2548 - accuracy: 0.8932 - val_loss: 0.3250 - val_accuracy: 0.8673\n",
            "Epoch 19/20\n",
            "375/375 [==============================] - 3s 9ms/step - loss: 0.2485 - accuracy: 0.8946 - val_loss: 0.3239 - val_accuracy: 0.8681\n",
            "Epoch 20/20\n",
            "375/375 [==============================] - 4s 9ms/step - loss: 0.2424 - accuracy: 0.8965 - val_loss: 0.3004 - val_accuracy: 0.8781\n"
          ],
          "name": "stdout"
        }
      ]
    },
    {
      "cell_type": "code",
      "metadata": {
        "id": "IpDYE2SMB8BJ",
        "colab_type": "code",
        "colab": {
          "base_uri": "https://localhost:8080/",
          "height": 390
        },
        "outputId": "b9829917-6bc5-49bc-f35b-df58cbee5ed5"
      },
      "source": [
        "acc = history.history['accuracy']\n",
        "val_acc = history.history['val_accuracy']\n",
        "\n",
        "loss=history.history['loss']\n",
        "val_loss=history.history['val_loss']\n",
        "\n",
        "# epochs_range = range(epochs)\n",
        "\n",
        "plt.figure(figsize=(6, 6))\n",
        "plt.subplot(1, 2, 1)\n",
        "plt.plot(acc, label='Training Accuracy')\n",
        "plt.plot(val_acc, label='Validation Accuracy')\n",
        "plt.legend(loc='lower right')\n",
        "plt.title('Training and Validation Accuracy')\n",
        "\n",
        "plt.subplot(1, 2, 2)\n",
        "plt.plot(loss, label='Training Loss')\n",
        "plt.plot(val_loss, label='Validation Loss')\n",
        "plt.legend(loc='upper right')\n",
        "plt.title('Training and Validation Loss')\n",
        "plt.show()"
      ],
      "execution_count": 17,
      "outputs": [
        {
          "output_type": "display_data",
          "data": {
            "image/png": "[encoded data removed]",
            "text/plain": [
              "<Figure size 432x432 with 2 Axes>"
            ]
          },
          "metadata": {
            "tags": [],
            "needs_background": "light"
          }
        }
      ]
    },
    {
      "cell_type": "code",
      "metadata": {
        "id": "Py57z005QiLh",
        "colab_type": "code",
        "colab": {
          "base_uri": "https://localhost:8080/",
          "height": 50
        },
        "outputId": "78f19333-55dd-4630-d84b-ae9c74982fed"
      },
      "source": [
        "loss, acc = model.evaluate(X_test,  y_test, verbose=2)\n",
        "print('Restored model, accuracy: {:5.2f}%'.format(100*acc))\n"
      ],
      "execution_count": 18,
      "outputs": [
        {
          "output_type": "stream",
          "text": [
            "125/125 - 0s - loss: 0.3004 - accuracy: 0.8781\n",
            "Restored model, accuracy: 87.81%\n"
          ],
          "name": "stdout"
        }
      ]
    },
    {
      "cell_type": "code",
      "metadata": {
        "id": "6RdvR8kCKsKY",
        "colab_type": "code",
        "colab": {
          "base_uri": "https://localhost:8080/",
          "height": 104
        },
        "outputId": "10c4b327-9357-42bb-da5c-0a5bfca6b6d0"
      },
      "source": [
        "from sklearn.metrics import accuracy_score\n",
        "y_pred = model.predict_classes(X_test)\n",
        "accuracy_score(y_test, y_pred)"
      ],
      "execution_count": 19,
      "outputs": [
        {
          "output_type": "stream",
          "text": [
            "WARNING:tensorflow:From <ipython-input-19-d56938f03509>:2: Sequential.predict_classes (from tensorflow.python.keras.engine.sequential) is deprecated and will be removed after 2021-01-01.\n",
            "Instructions for updating:\n",
            "Please use instead:* `np.argmax(model.predict(x), axis=-1)`,   if your model does multi-class classification   (e.g. if it uses a `softmax` last-layer activation).* `(model.predict(x) > 0.5).astype(\"int32\")`,   if your model does binary classification   (e.g. if it uses a `sigmoid` last-layer activation).\n"
          ],
          "name": "stdout"
        },
        {
          "output_type": "execute_result",
          "data": {
            "text/plain": [
              "0.8780976220275344"
            ]
          },
          "metadata": {
            "tags": []
          },
          "execution_count": 19
        }
      ]
    },
    {
      "cell_type": "code",
      "metadata": {
        "id": "LcL2GNRZJp4n",
        "colab_type": "code",
        "colab": {}
      },
      "source": [
        "matplotlib.rcParams.update(matplotlib.rcParamsDefault)"
      ],
      "execution_count": 20,
      "outputs": []
    },
    {
      "cell_type": "code",
      "metadata": {
        "id": "6uYgp8qQJ33J",
        "colab_type": "code",
        "colab": {
          "base_uri": "https://localhost:8080/",
          "height": 603
        },
        "outputId": "5505dc32-5d1c-4367-f558-0f32a72f6a73"
      },
      "source": [
        "class_names = ['Normal','Fault']\n",
        "mat = confusion_matrix(y_test, y_pred)\n",
        "fig, ax = plot_confusion_matrix(conf_mat=mat, figsize=(6,6), class_names = class_names, show_normed = False)\n",
        "plt.tight_layout()\n",
        "plt.show()\n",
        "fig.savefig('cm.png')"
      ],
      "execution_count": 21,
      "outputs": [
        {
          "output_type": "display_data",
          "data": {
            "image/png": "[encoded data removed]",
            "text/plain": [
              "<Figure size 600x600 with 1 Axes>"
            ]
          },
          "metadata": {
            "tags": []
          }
        }
      ]
    },
    {
      "cell_type": "code",
      "metadata": {
        "id": "p_476qO0LFpE",
        "colab_type": "code",
        "colab": {
          "base_uri": "https://localhost:8080/",
          "height": 168
        },
        "outputId": "bb8d1773-70f7-48b1-8961-1785403f921f"
      },
      "source": [
        "print(classification_report(y_test, y_pred))"
      ],
      "execution_count": 22,
      "outputs": [
        {
          "output_type": "stream",
          "text": [
            "              precision    recall  f1-score   support\n",
            "\n",
            "           0       0.88      0.97      0.92      2995\n",
            "           1       0.86      0.62      0.72      1000\n",
            "\n",
            "    accuracy                           0.88      3995\n",
            "   macro avg       0.87      0.79      0.82      3995\n",
            "weighted avg       0.88      0.88      0.87      3995\n",
            "\n"
          ],
          "name": "stdout"
        }
      ]
    },
    {
      "cell_type": "code",
      "metadata": {
        "id": "LKj-0ifwSEdH",
        "colab_type": "code",
        "colab": {}
      },
      "source": [
        "%matplotlib inline\n",
        "import matplotlib.pyplot as plt\n",
        "from sklearn.metrics import roc_curve, auc\n",
        "\n",
        "# Plot an ROC. pred - the predictions, y - the expected output.\n",
        "def plot_roc(pred,y):\n",
        "    fpr, tpr, _ = roc_curve(y, pred)\n",
        "    roc_auc = auc(fpr, tpr)\n",
        "\n",
        "    plt.figure()\n",
        "    plt.plot(fpr, tpr, label='ROC curve (area = %0.2f)' % roc_auc)\n",
        "    plt.plot([0, 1], [0, 1], 'k--')\n",
        "    plt.xlim([0.0, 1.0])\n",
        "    plt.ylim([0.0, 1.05])\n",
        "    plt.xlabel('False Positive Rate')\n",
        "    plt.ylabel('True Positive Rate')\n",
        "    plt.title('Receiver Operating Characteristic (ROC)')\n",
        "    plt.legend(loc=\"lower right\")\n",
        "    plt.show()"
      ],
      "execution_count": 23,
      "outputs": []
    },
    {
      "cell_type": "code",
      "metadata": {
        "id": "zeJGgmvvS8QK",
        "colab_type": "code",
        "colab": {
          "base_uri": "https://localhost:8080/",
          "height": 295
        },
        "outputId": "f4ddf3bf-b113-4109-baee-ba431425709e"
      },
      "source": [
        "plot_roc(y_pred,y_test)"
      ],
      "execution_count": 24,
      "outputs": [
        {
          "output_type": "display_data",
          "data": {
            "image/png": "[encoded data removed]",
            "text/plain": [
              "<Figure size 432x288 with 1 Axes>"
            ]
          },
          "metadata": {
            "tags": [],
            "needs_background": "light"
          }
        }
      ]
    },
    {
      "cell_type": "code",
      "metadata": {
        "id": "KmHAKkPmTA3N",
        "colab_type": "code",
        "colab": {}
      },
      "source": [
        "fig.savefig('ROC.png')"
      ],
      "execution_count": 25,
      "outputs": []
    }
  ]
}