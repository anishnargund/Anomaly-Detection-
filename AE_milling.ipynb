{
  "nbformat": 4,
  "nbformat_minor": 0,
  "metadata": {
    "colab": {
      "name": "AE_milling.ipynb",
      "provenance": []
    },
    "kernelspec": {
      "name": "python3",
      "display_name": "Python 3"
    },
    "accelerator": "GPU"
  },
  "cells": [
    {
      "cell_type": "code",
      "metadata": {
        "id": "xumw-dkF4mtu",
        "colab_type": "code",
        "colab": {}
      },
      "source": [
        "%matplotlib inline\n",
        "import matplotlib.pyplot as plt\n",
        "import seaborn as sns\n",
        "import pandas as pd\n",
        "import numpy as np\n",
        "from pylab import rcParams\n",
        "import tensorflow as tf\n",
        "from keras.models import Model, load_model\n",
        "from keras.layers import Input, Dense\n",
        "from keras.callbacks import ModelCheckpoint, TensorBoard\n",
        "from keras import regularizers\n",
        "from sklearn.preprocessing import StandardScaler\n",
        "from sklearn.model_selection import train_test_split\n",
        "from sklearn.metrics import confusion_matrix, precision_recall_curve\n",
        "from sklearn.metrics import recall_score, classification_report, auc, roc_curve\n",
        "from sklearn.metrics import precision_recall_fscore_support, f1_score\n",
        "from numpy.random import seed\n",
        "seed(1)\n",
        "tf.random.set_seed(11)\n",
        "SEED = 123 #used to help randomly select the data points\n",
        "DATA_SPLIT_PCT = 0.2\n",
        "rcParams['figure.figsize'] = 8, 6\n",
        "LABELS = [\"Normal\",\"Break\"]"
      ],
      "execution_count": null,
      "outputs": []
    },
    {
      "cell_type": "code",
      "metadata": {
        "id": "6SEP39VibVPm",
        "colab_type": "code",
        "colab": {
          "base_uri": "https://localhost:8080/",
          "height": 120
        },
        "outputId": "93bbaa06-eeec-40be-8b78-6705a645eff1"
      },
      "source": [
        "from google.colab import drive\n",
        "drive.mount('/content/drive')"
      ],
      "execution_count": null,
      "outputs": [
        {
          "output_type": "stream",
          "text": [
            "Go to this URL in a browser: https://accounts.google.com/o/oauth2/auth?client_id=947318989803-6bn6qk8qdgf4n4g3pfee6491hc0brc4i.apps.googleusercontent.com&redirect_uri=urn%3aietf%3awg%3aoauth%3a2.0%3aoob&response_type=code&scope=email%20https%3a%2f%2fwww.googleapis.com%2fauth%2fdocs.test%20https%3a%2f%2fwww.googleapis.com%2fauth%2fdrive%20https%3a%2f%2fwww.googleapis.com%2fauth%2fdrive.photos.readonly%20https%3a%2f%2fwww.googleapis.com%2fauth%2fpeopleapi.readonly\n",
            "\n",
            "Enter your authorization code:\n",
            "··········\n",
            "Mounted at /content/drive\n"
          ],
          "name": "stdout"
        }
      ]
    },
    {
      "cell_type": "code",
      "metadata": {
        "id": "BF9cVw4aJUgI",
        "colab_type": "code",
        "colab": {
          "base_uri": "https://localhost:8080/",
          "height": 216
        },
        "outputId": "491331db-a89d-4e3a-adda-e504d35eaa5e"
      },
      "source": [
        "df1 = pd.read_csv('/content/drive/My Drive/N.csv')\n",
        "df1.head()\n",
        "df2 = pd.read_csv('/content/drive/My Drive/F.csv')\n",
        "df2.head()"
      ],
      "execution_count": null,
      "outputs": [
        {
          "output_type": "execute_result",
          "data": {
            "text/html": [
              "<div>\n",
              "<style scoped>\n",
              "    .dataframe tbody tr th:only-of-type {\n",
              "        vertical-align: middle;\n",
              "    }\n",
              "\n",
              "    .dataframe tbody tr th {\n",
              "        vertical-align: top;\n",
              "    }\n",
              "\n",
              "    .dataframe thead th {\n",
              "        text-align: right;\n",
              "    }\n",
              "</style>\n",
              "<table border=\"1\" class=\"dataframe\">\n",
              "  <thead>\n",
              "    <tr style=\"text-align: right;\">\n",
              "      <th></th>\n",
              "      <th>X1_ActualPosition</th>\n",
              "      <th>X1_ActualVelocity</th>\n",
              "      <th>X1_ActualAcceleration</th>\n",
              "      <th>X1_CommandPosition</th>\n",
              "      <th>X1_CommandVelocity</th>\n",
              "      <th>X1_CommandAcceleration</th>\n",
              "      <th>X1_CurrentFeedback</th>\n",
              "      <th>X1_DCBusVoltage</th>\n",
              "      <th>X1_OutputCurrent</th>\n",
              "      <th>X1_OutputVoltage</th>\n",
              "      <th>X1_OutputPower</th>\n",
              "      <th>Y1_ActualPosition</th>\n",
              "      <th>Y1_ActualVelocity</th>\n",
              "      <th>Y1_ActualAcceleration</th>\n",
              "      <th>Y1_CommandPosition</th>\n",
              "      <th>Y1_CommandVelocity</th>\n",
              "      <th>Y1_CommandAcceleration</th>\n",
              "      <th>Y1_CurrentFeedback</th>\n",
              "      <th>Y1_DCBusVoltage</th>\n",
              "      <th>Y1_OutputCurrent</th>\n",
              "      <th>Y1_OutputVoltage</th>\n",
              "      <th>Y1_OutputPower</th>\n",
              "      <th>Z1_ActualPosition</th>\n",
              "      <th>Z1_ActualVelocity</th>\n",
              "      <th>Z1_ActualAcceleration</th>\n",
              "      <th>Z1_CommandPosition</th>\n",
              "      <th>Z1_CommandVelocity</th>\n",
              "      <th>Z1_CommandAcceleration</th>\n",
              "      <th>Z1_CurrentFeedback</th>\n",
              "      <th>Z1_DCBusVoltage</th>\n",
              "      <th>Z1_OutputCurrent</th>\n",
              "      <th>Z1_OutputVoltage</th>\n",
              "      <th>S1_ActualPosition</th>\n",
              "      <th>S1_ActualVelocity</th>\n",
              "      <th>S1_ActualAcceleration</th>\n",
              "      <th>S1_CommandPosition</th>\n",
              "      <th>S1_CommandVelocity</th>\n",
              "      <th>S1_CommandAcceleration</th>\n",
              "      <th>S1_CurrentFeedback</th>\n",
              "      <th>S1_DCBusVoltage</th>\n",
              "      <th>S1_OutputCurrent</th>\n",
              "      <th>S1_OutputVoltage</th>\n",
              "      <th>S1_OutputPower</th>\n",
              "      <th>S1_SystemInertia</th>\n",
              "      <th>M1_CURRENT_PROGRAM_NUMBER</th>\n",
              "      <th>M1_sequence_number</th>\n",
              "      <th>M1_CURRENT_FEEDRATE</th>\n",
              "      <th>class</th>\n",
              "    </tr>\n",
              "  </thead>\n",
              "  <tbody>\n",
              "    <tr>\n",
              "      <th>0</th>\n",
              "      <td>198</td>\n",
              "      <td>0.000</td>\n",
              "      <td>6.25</td>\n",
              "      <td>198</td>\n",
              "      <td>0.0</td>\n",
              "      <td>0.0</td>\n",
              "      <td>-1.100</td>\n",
              "      <td>0.0191</td>\n",
              "      <td>328</td>\n",
              "      <td>1.670</td>\n",
              "      <td>0.0</td>\n",
              "      <td>158.0</td>\n",
              "      <td>-0.050</td>\n",
              "      <td>-31.3</td>\n",
              "      <td>158.0</td>\n",
              "      <td>0.0</td>\n",
              "      <td>0.0</td>\n",
              "      <td>-1.0500</td>\n",
              "      <td>0.0231</td>\n",
              "      <td>327</td>\n",
              "      <td>2.450</td>\n",
              "      <td>0.0</td>\n",
              "      <td>119.0</td>\n",
              "      <td>-0.025</td>\n",
              "      <td>-6.25</td>\n",
              "      <td>119.0</td>\n",
              "      <td>0.0</td>\n",
              "      <td>0.0</td>\n",
              "      <td>0</td>\n",
              "      <td>0</td>\n",
              "      <td>0</td>\n",
              "      <td>0</td>\n",
              "      <td>-978.0</td>\n",
              "      <td>0.00000</td>\n",
              "      <td>-0.50</td>\n",
              "      <td>-978.0</td>\n",
              "      <td>0.0</td>\n",
              "      <td>0</td>\n",
              "      <td>-0.415</td>\n",
              "      <td>0.0</td>\n",
              "      <td>328</td>\n",
              "      <td>0.0</td>\n",
              "      <td>-0.00001</td>\n",
              "      <td>12</td>\n",
              "      <td>1</td>\n",
              "      <td>2</td>\n",
              "      <td>50</td>\n",
              "      <td>1</td>\n",
              "    </tr>\n",
              "    <tr>\n",
              "      <th>1</th>\n",
              "      <td>198</td>\n",
              "      <td>0.025</td>\n",
              "      <td>18.80</td>\n",
              "      <td>198</td>\n",
              "      <td>0.0</td>\n",
              "      <td>0.0</td>\n",
              "      <td>0.499</td>\n",
              "      <td>0.0211</td>\n",
              "      <td>328</td>\n",
              "      <td>1.540</td>\n",
              "      <td>0.0</td>\n",
              "      <td>158.0</td>\n",
              "      <td>-0.025</td>\n",
              "      <td>-12.5</td>\n",
              "      <td>158.0</td>\n",
              "      <td>0.0</td>\n",
              "      <td>0.0</td>\n",
              "      <td>0.0623</td>\n",
              "      <td>0.0217</td>\n",
              "      <td>327</td>\n",
              "      <td>1.160</td>\n",
              "      <td>0.0</td>\n",
              "      <td>119.0</td>\n",
              "      <td>0.000</td>\n",
              "      <td>0.00</td>\n",
              "      <td>119.0</td>\n",
              "      <td>0.0</td>\n",
              "      <td>0.0</td>\n",
              "      <td>0</td>\n",
              "      <td>0</td>\n",
              "      <td>0</td>\n",
              "      <td>0</td>\n",
              "      <td>-978.0</td>\n",
              "      <td>-0.00100</td>\n",
              "      <td>-0.75</td>\n",
              "      <td>-978.0</td>\n",
              "      <td>0.0</td>\n",
              "      <td>0</td>\n",
              "      <td>0.883</td>\n",
              "      <td>0.0</td>\n",
              "      <td>328</td>\n",
              "      <td>0.0</td>\n",
              "      <td>0.00000</td>\n",
              "      <td>12</td>\n",
              "      <td>1</td>\n",
              "      <td>0</td>\n",
              "      <td>50</td>\n",
              "      <td>1</td>\n",
              "    </tr>\n",
              "    <tr>\n",
              "      <th>2</th>\n",
              "      <td>198</td>\n",
              "      <td>0.000</td>\n",
              "      <td>12.50</td>\n",
              "      <td>198</td>\n",
              "      <td>0.0</td>\n",
              "      <td>0.0</td>\n",
              "      <td>1.140</td>\n",
              "      <td>0.0170</td>\n",
              "      <td>328</td>\n",
              "      <td>2.320</td>\n",
              "      <td>0.0</td>\n",
              "      <td>158.0</td>\n",
              "      <td>-0.025</td>\n",
              "      <td>-18.8</td>\n",
              "      <td>158.0</td>\n",
              "      <td>0.0</td>\n",
              "      <td>0.0</td>\n",
              "      <td>0.3740</td>\n",
              "      <td>0.0180</td>\n",
              "      <td>327</td>\n",
              "      <td>0.764</td>\n",
              "      <td>0.0</td>\n",
              "      <td>119.0</td>\n",
              "      <td>0.000</td>\n",
              "      <td>0.00</td>\n",
              "      <td>119.0</td>\n",
              "      <td>0.0</td>\n",
              "      <td>0.0</td>\n",
              "      <td>0</td>\n",
              "      <td>0</td>\n",
              "      <td>0</td>\n",
              "      <td>0</td>\n",
              "      <td>-978.0</td>\n",
              "      <td>0.00325</td>\n",
              "      <td>1.31</td>\n",
              "      <td>-978.0</td>\n",
              "      <td>0.0</td>\n",
              "      <td>0</td>\n",
              "      <td>-0.415</td>\n",
              "      <td>0.0</td>\n",
              "      <td>328</td>\n",
              "      <td>0.0</td>\n",
              "      <td>0.00000</td>\n",
              "      <td>12</td>\n",
              "      <td>1</td>\n",
              "      <td>0</td>\n",
              "      <td>50</td>\n",
              "      <td>1</td>\n",
              "    </tr>\n",
              "    <tr>\n",
              "      <th>3</th>\n",
              "      <td>198</td>\n",
              "      <td>0.000</td>\n",
              "      <td>0.00</td>\n",
              "      <td>198</td>\n",
              "      <td>0.0</td>\n",
              "      <td>0.0</td>\n",
              "      <td>-0.300</td>\n",
              "      <td>0.0152</td>\n",
              "      <td>328</td>\n",
              "      <td>0.812</td>\n",
              "      <td>0.0</td>\n",
              "      <td>158.0</td>\n",
              "      <td>-0.050</td>\n",
              "      <td>-25.0</td>\n",
              "      <td>158.0</td>\n",
              "      <td>0.0</td>\n",
              "      <td>0.0</td>\n",
              "      <td>-0.4130</td>\n",
              "      <td>0.0232</td>\n",
              "      <td>327</td>\n",
              "      <td>2.620</td>\n",
              "      <td>0.0</td>\n",
              "      <td>119.0</td>\n",
              "      <td>-0.025</td>\n",
              "      <td>-6.25</td>\n",
              "      <td>119.0</td>\n",
              "      <td>0.0</td>\n",
              "      <td>0.0</td>\n",
              "      <td>0</td>\n",
              "      <td>0</td>\n",
              "      <td>0</td>\n",
              "      <td>0</td>\n",
              "      <td>-978.0</td>\n",
              "      <td>0.00000</td>\n",
              "      <td>-0.25</td>\n",
              "      <td>-978.0</td>\n",
              "      <td>0.0</td>\n",
              "      <td>0</td>\n",
              "      <td>-0.152</td>\n",
              "      <td>0.0</td>\n",
              "      <td>328</td>\n",
              "      <td>0.0</td>\n",
              "      <td>-0.00001</td>\n",
              "      <td>12</td>\n",
              "      <td>1</td>\n",
              "      <td>0</td>\n",
              "      <td>50</td>\n",
              "      <td>1</td>\n",
              "    </tr>\n",
              "    <tr>\n",
              "      <th>4</th>\n",
              "      <td>198</td>\n",
              "      <td>0.000</td>\n",
              "      <td>0.00</td>\n",
              "      <td>198</td>\n",
              "      <td>0.0</td>\n",
              "      <td>0.0</td>\n",
              "      <td>-0.459</td>\n",
              "      <td>0.0237</td>\n",
              "      <td>328</td>\n",
              "      <td>1.120</td>\n",
              "      <td>0.0</td>\n",
              "      <td>158.0</td>\n",
              "      <td>-0.050</td>\n",
              "      <td>-25.0</td>\n",
              "      <td>158.0</td>\n",
              "      <td>0.0</td>\n",
              "      <td>0.0</td>\n",
              "      <td>-0.5700</td>\n",
              "      <td>0.0179</td>\n",
              "      <td>326</td>\n",
              "      <td>2.330</td>\n",
              "      <td>0.0</td>\n",
              "      <td>119.0</td>\n",
              "      <td>0.000</td>\n",
              "      <td>0.00</td>\n",
              "      <td>119.0</td>\n",
              "      <td>0.0</td>\n",
              "      <td>0.0</td>\n",
              "      <td>0</td>\n",
              "      <td>0</td>\n",
              "      <td>0</td>\n",
              "      <td>0</td>\n",
              "      <td>-978.0</td>\n",
              "      <td>0.00000</td>\n",
              "      <td>-0.25</td>\n",
              "      <td>-978.0</td>\n",
              "      <td>0.0</td>\n",
              "      <td>0</td>\n",
              "      <td>-0.679</td>\n",
              "      <td>0.0</td>\n",
              "      <td>327</td>\n",
              "      <td>0.0</td>\n",
              "      <td>0.00000</td>\n",
              "      <td>12</td>\n",
              "      <td>1</td>\n",
              "      <td>0</td>\n",
              "      <td>50</td>\n",
              "      <td>1</td>\n",
              "    </tr>\n",
              "  </tbody>\n",
              "</table>\n",
              "</div>"
            ],
            "text/plain": [
              "   X1_ActualPosition  X1_ActualVelocity  ...  M1_CURRENT_FEEDRATE  class\n",
              "0                198              0.000  ...                   50      1\n",
              "1                198              0.025  ...                   50      1\n",
              "2                198              0.000  ...                   50      1\n",
              "3                198              0.000  ...                   50      1\n",
              "4                198              0.000  ...                   50      1\n",
              "\n",
              "[5 rows x 48 columns]"
            ]
          },
          "metadata": {
            "tags": []
          },
          "execution_count": 7
        }
      ]
    },
    {
      "cell_type": "code",
      "metadata": {
        "id": "BdO6ICoqJlGA",
        "colab_type": "code",
        "colab": {
          "base_uri": "https://localhost:8080/",
          "height": 33
        },
        "outputId": "fc12c765-e7e2-4088-cdf2-e6cf0166c6cc"
      },
      "source": [
        "df2 = df2.sample(3327)\n",
        "df = df1.append(df2,ignore_index= True)\n",
        "df.shape"
      ],
      "execution_count": null,
      "outputs": [
        {
          "output_type": "execute_result",
          "data": {
            "text/plain": [
              "(15305, 48)"
            ]
          },
          "metadata": {
            "tags": []
          },
          "execution_count": 8
        }
      ]
    },
    {
      "cell_type": "code",
      "metadata": {
        "id": "U10Hya8VJn2p",
        "colab_type": "code",
        "colab": {
          "base_uri": "https://localhost:8080/",
          "height": 84
        },
        "outputId": "e46b7bbb-e4ef-429f-d2ea-0c750f0afcf0"
      },
      "source": [
        "df.groupby('class')['class'].count()"
      ],
      "execution_count": null,
      "outputs": [
        {
          "output_type": "execute_result",
          "data": {
            "text/plain": [
              "class\n",
              "0    11978\n",
              "1     3327\n",
              "Name: class, dtype: int64"
            ]
          },
          "metadata": {
            "tags": []
          },
          "execution_count": 9
        }
      ]
    },
    {
      "cell_type": "code",
      "metadata": {
        "id": "Jw6x60otKCQX",
        "colab_type": "code",
        "colab": {}
      },
      "source": [
        "df_train, df_test = train_test_split(df, test_size=DATA_SPLIT_PCT, random_state=SEED)\n",
        "df_train, df_valid = train_test_split(df_train, test_size=DATA_SPLIT_PCT, random_state=SEED)\n",
        "df_train_0 = df_train.loc[df['class'] == 0]\n",
        "df_train_1 = df_train.loc[df['class'] == 1]\n",
        "df_train_0_x = df_train_0.drop(['class'], axis=1)\n",
        "df_train_1_x = df_train_1.drop(['class'], axis=1)\n",
        "df_valid_0 = df_valid.loc[df['class'] == 0]\n",
        "df_valid_1 = df_valid.loc[df['class'] == 1]\n",
        "df_valid_0_x = df_valid_0.drop(['class'], axis=1)\n",
        "df_valid_1_x = df_valid_1.drop(['class'], axis=1)\n",
        "df_test_0 = df_test.loc[df['class'] == 0]\n",
        "df_test_1 = df_test.loc[df['class'] == 1]\n",
        "df_test_0_x = df_test_0.drop(['class'], axis=1)\n",
        "df_test_1_x = df_test_1.drop(['class'], axis=1)"
      ],
      "execution_count": null,
      "outputs": []
    },
    {
      "cell_type": "code",
      "metadata": {
        "id": "6VWAzBq-T4QD",
        "colab_type": "code",
        "colab": {}
      },
      "source": [
        "scaler = StandardScaler().fit(df_train_0_x)\n",
        "df_train_0_x_rescaled = scaler.transform(df_train_0_x)\n",
        "df_valid_0_x_rescaled = scaler.transform(df_valid_0_x)\n",
        "df_valid_x_rescaled = scaler.transform(df_valid.drop(['class'], axis = 1))\n",
        "df_test_0_x_rescaled = scaler.transform(df_test_0_x)\n",
        "df_test_x_rescaled = scaler.transform(df_test.drop(['class'], axis = 1))"
      ],
      "execution_count": null,
      "outputs": []
    },
    {
      "cell_type": "code",
      "metadata": {
        "id": "zhlCU3pYT8lv",
        "colab_type": "code",
        "colab": {
          "base_uri": "https://localhost:8080/",
          "height": 351
        },
        "outputId": "6bf059f5-3d10-4b77-b437-556db9c3d155"
      },
      "source": [
        "nb_epoch = 200\n",
        "batch_size = 128\n",
        "input_dim = df_train_0_x_rescaled.shape[1] #num of predictor variables, \n",
        "encoding_dim = 32\n",
        "hidden_dim = int(encoding_dim / 2)\n",
        "learning_rate = 1e-3\n",
        "\n",
        "input_layer = Input(shape=(input_dim, ))\n",
        "encoder = Dense(encoding_dim, activation=\"relu\", activity_regularizer=regularizers.l1(learning_rate))(input_layer)\n",
        "encoder = Dense(hidden_dim, activation=\"relu\")(encoder)\n",
        "decoder = Dense(hidden_dim, activation=\"relu\")(encoder)\n",
        "decoder = Dense(encoding_dim, activation=\"relu\")(decoder)\n",
        "decoder = Dense(input_dim, activation=\"linear\")(decoder)\n",
        "autoencoder = Model(inputs=input_layer, outputs=decoder)\n",
        "autoencoder.summary()\n"
      ],
      "execution_count": null,
      "outputs": [
        {
          "output_type": "stream",
          "text": [
            "Model: \"model_1\"\n",
            "_________________________________________________________________\n",
            "Layer (type)                 Output Shape              Param #   \n",
            "=================================================================\n",
            "input_1 (InputLayer)         (None, 47)                0         \n",
            "_________________________________________________________________\n",
            "dense_1 (Dense)              (None, 32)                1536      \n",
            "_________________________________________________________________\n",
            "dense_2 (Dense)              (None, 16)                528       \n",
            "_________________________________________________________________\n",
            "dense_3 (Dense)              (None, 16)                272       \n",
            "_________________________________________________________________\n",
            "dense_4 (Dense)              (None, 32)                544       \n",
            "_________________________________________________________________\n",
            "dense_5 (Dense)              (None, 47)                1551      \n",
            "=================================================================\n",
            "Total params: 4,431\n",
            "Trainable params: 4,431\n",
            "Non-trainable params: 0\n",
            "_________________________________________________________________\n"
          ],
          "name": "stdout"
        }
      ]
    },
    {
      "cell_type": "code",
      "metadata": {
        "id": "LqB-Igv-15vT",
        "colab_type": "code",
        "colab": {
          "base_uri": "https://localhost:8080/",
          "height": 1000
        },
        "outputId": "acfa43e4-b3b7-4562-ebef-b23dbbbbdfc8"
      },
      "source": [
        "autoencoder.compile(metrics=['accuracy'],\n",
        "                    loss='mean_absolute_error',\n",
        "                    optimizer='adam')\n",
        "cp = ModelCheckpoint(filepath=\"autoencoder_classifier.h5\",\n",
        "                               save_best_only=True,\n",
        "                               verbose=0)\n",
        "tb = TensorBoard(log_dir='./logs',\n",
        "                histogram_freq=0,\n",
        "                write_graph=True,\n",
        "                write_images=True)\n",
        "history = autoencoder.fit(df_train_0_x_rescaled, df_train_0_x_rescaled,\n",
        "                    epochs=nb_epoch,\n",
        "                    batch_size=batch_size,\n",
        "                    shuffle=True,\n",
        "                    validation_data=(df_valid_0_x_rescaled, df_valid_0_x_rescaled),\n",
        "                    verbose=1,\n",
        "                    callbacks=[cp, tb]).history"
      ],
      "execution_count": null,
      "outputs": [
        {
          "output_type": "stream",
          "text": [
            "Train on 7704 samples, validate on 1894 samples\n",
            "Epoch 1/200\n",
            "7704/7704 [==============================] - 2s 274us/step - loss: 1.5920 - accuracy: 0.0069 - val_loss: 1.2613 - val_accuracy: 0.0100\n",
            "Epoch 2/200\n",
            "7704/7704 [==============================] - 0s 53us/step - loss: 1.0456 - accuracy: 0.0057 - val_loss: 0.8542 - val_accuracy: 0.0016\n",
            "Epoch 3/200\n",
            "7704/7704 [==============================] - 0s 49us/step - loss: 0.7367 - accuracy: 9.0862e-04 - val_loss: 0.6290 - val_accuracy: 0.0016\n",
            "Epoch 4/200\n",
            "7704/7704 [==============================] - 0s 50us/step - loss: 0.5531 - accuracy: 0.0214 - val_loss: 0.4631 - val_accuracy: 0.0016\n",
            "Epoch 5/200\n",
            "7704/7704 [==============================] - 0s 51us/step - loss: 0.4094 - accuracy: 0.0191 - val_loss: 0.3844 - val_accuracy: 0.0940\n",
            "Epoch 6/200\n",
            "7704/7704 [==============================] - 0s 51us/step - loss: 0.3644 - accuracy: 0.0336 - val_loss: 0.3619 - val_accuracy: 0.0185\n",
            "Epoch 7/200\n",
            "7704/7704 [==============================] - 0s 52us/step - loss: 0.3488 - accuracy: 0.0327 - val_loss: 0.3531 - val_accuracy: 0.0195\n",
            "Epoch 8/200\n",
            "7704/7704 [==============================] - 0s 50us/step - loss: 0.3426 - accuracy: 0.0387 - val_loss: 0.3499 - val_accuracy: 0.0655\n",
            "Epoch 9/200\n",
            "7704/7704 [==============================] - 0s 52us/step - loss: 0.3383 - accuracy: 0.0398 - val_loss: 0.3464 - val_accuracy: 0.0375\n",
            "Epoch 10/200\n",
            "7704/7704 [==============================] - 0s 49us/step - loss: 0.3362 - accuracy: 0.0492 - val_loss: 0.3450 - val_accuracy: 0.0512\n",
            "Epoch 11/200\n",
            "7704/7704 [==============================] - 0s 50us/step - loss: 0.3340 - accuracy: 0.0476 - val_loss: 0.3429 - val_accuracy: 0.0829\n",
            "Epoch 12/200\n",
            "7704/7704 [==============================] - 0s 48us/step - loss: 0.3324 - accuracy: 0.0574 - val_loss: 0.3422 - val_accuracy: 0.0433\n",
            "Epoch 13/200\n",
            "7704/7704 [==============================] - 0s 51us/step - loss: 0.3308 - accuracy: 0.0561 - val_loss: 0.3405 - val_accuracy: 0.0444\n",
            "Epoch 14/200\n",
            "7704/7704 [==============================] - 0s 54us/step - loss: 0.3296 - accuracy: 0.0636 - val_loss: 0.3390 - val_accuracy: 0.0322\n",
            "Epoch 15/200\n",
            "7704/7704 [==============================] - 0s 51us/step - loss: 0.3274 - accuracy: 0.0600 - val_loss: 0.3360 - val_accuracy: 0.0470\n",
            "Epoch 16/200\n",
            "7704/7704 [==============================] - 0s 52us/step - loss: 0.3257 - accuracy: 0.0641 - val_loss: 0.3349 - val_accuracy: 0.0343\n",
            "Epoch 17/200\n",
            "7704/7704 [==============================] - 0s 49us/step - loss: 0.3236 - accuracy: 0.0656 - val_loss: 0.3327 - val_accuracy: 0.0354\n",
            "Epoch 18/200\n",
            "7704/7704 [==============================] - 0s 50us/step - loss: 0.3216 - accuracy: 0.0615 - val_loss: 0.3314 - val_accuracy: 0.0649\n",
            "Epoch 19/200\n",
            "7704/7704 [==============================] - 0s 50us/step - loss: 0.3207 - accuracy: 0.0719 - val_loss: 0.3303 - val_accuracy: 0.0444\n",
            "Epoch 20/200\n",
            "7704/7704 [==============================] - 0s 50us/step - loss: 0.3181 - accuracy: 0.0731 - val_loss: 0.3270 - val_accuracy: 0.0792\n",
            "Epoch 21/200\n",
            "7704/7704 [==============================] - 0s 53us/step - loss: 0.3168 - accuracy: 0.0945 - val_loss: 0.3238 - val_accuracy: 0.1225\n",
            "Epoch 22/200\n",
            "7704/7704 [==============================] - 0s 51us/step - loss: 0.3102 - accuracy: 0.0735 - val_loss: 0.3195 - val_accuracy: 0.1077\n",
            "Epoch 24/200\n",
            "7704/7704 [==============================] - 0s 53us/step - loss: 0.3092 - accuracy: 0.0763 - val_loss: 0.3195 - val_accuracy: 0.1315\n",
            "Epoch 25/200\n",
            "7704/7704 [==============================] - 0s 52us/step - loss: 0.3088 - accuracy: 0.0666 - val_loss: 0.3177 - val_accuracy: 0.0660\n",
            "Epoch 26/200\n",
            "7704/7704 [==============================] - 0s 50us/step - loss: 0.3083 - accuracy: 0.0789 - val_loss: 0.3175 - val_accuracy: 0.1098\n",
            "Epoch 27/200\n",
            "7704/7704 [==============================] - 0s 49us/step - loss: 0.3078 - accuracy: 0.0870 - val_loss: 0.3179 - val_accuracy: 0.0375\n",
            "Epoch 28/200\n",
            "7704/7704 [==============================] - 0s 51us/step - loss: 0.3089 - accuracy: 0.0796 - val_loss: 0.3194 - val_accuracy: 0.0660\n",
            "Epoch 29/200\n",
            "7704/7704 [==============================] - 0s 49us/step - loss: 0.3078 - accuracy: 0.0796 - val_loss: 0.3163 - val_accuracy: 0.0259\n",
            "Epoch 30/200\n",
            "7704/7704 [==============================] - 0s 52us/step - loss: 0.3071 - accuracy: 0.0815 - val_loss: 0.3163 - val_accuracy: 0.0475\n",
            "Epoch 31/200\n",
            "7704/7704 [==============================] - 0s 49us/step - loss: 0.3065 - accuracy: 0.0822 - val_loss: 0.3157 - val_accuracy: 0.0264\n",
            "Epoch 32/200\n",
            "7704/7704 [==============================] - 0s 48us/step - loss: 0.3063 - accuracy: 0.0784 - val_loss: 0.3156 - val_accuracy: 0.0285\n",
            "Epoch 33/200\n",
            "7704/7704 [==============================] - 0s 51us/step - loss: 0.3061 - accuracy: 0.0601 - val_loss: 0.3156 - val_accuracy: 0.1283\n",
            "Epoch 34/200\n",
            "7704/7704 [==============================] - 0s 49us/step - loss: 0.3057 - accuracy: 0.0778 - val_loss: 0.3154 - val_accuracy: 0.0649\n",
            "Epoch 35/200\n",
            "7704/7704 [==============================] - 0s 50us/step - loss: 0.3061 - accuracy: 0.0691 - val_loss: 0.3147 - val_accuracy: 0.1272\n",
            "Epoch 36/200\n",
            "7704/7704 [==============================] - 0s 49us/step - loss: 0.3058 - accuracy: 0.0755 - val_loss: 0.3154 - val_accuracy: 0.0269\n",
            "Epoch 37/200\n",
            "7704/7704 [==============================] - 0s 49us/step - loss: 0.3055 - accuracy: 0.0787 - val_loss: 0.3154 - val_accuracy: 0.0755\n",
            "Epoch 38/200\n",
            "7704/7704 [==============================] - 0s 51us/step - loss: 0.3059 - accuracy: 0.0806 - val_loss: 0.3159 - val_accuracy: 0.0253\n",
            "Epoch 39/200\n",
            "7704/7704 [==============================] - 0s 48us/step - loss: 0.3061 - accuracy: 0.0632 - val_loss: 0.3146 - val_accuracy: 0.0692\n",
            "Epoch 40/200\n",
            "7704/7704 [==============================] - 0s 51us/step - loss: 0.3052 - accuracy: 0.0784 - val_loss: 0.3140 - val_accuracy: 0.0591\n",
            "Epoch 41/200\n",
            "7704/7704 [==============================] - 0s 49us/step - loss: 0.3055 - accuracy: 0.0565 - val_loss: 0.3146 - val_accuracy: 0.0264\n",
            "Epoch 42/200\n",
            "7704/7704 [==============================] - 0s 50us/step - loss: 0.3050 - accuracy: 0.0765 - val_loss: 0.3142 - val_accuracy: 0.0275\n",
            "Epoch 43/200\n",
            "7704/7704 [==============================] - 0s 53us/step - loss: 0.3049 - accuracy: 0.0748 - val_loss: 0.3143 - val_accuracy: 0.0264\n",
            "Epoch 44/200\n",
            "7704/7704 [==============================] - 0s 50us/step - loss: 0.3049 - accuracy: 0.0630 - val_loss: 0.3151 - val_accuracy: 0.1315\n",
            "Epoch 45/200\n",
            "7704/7704 [==============================] - 0s 50us/step - loss: 0.3047 - accuracy: 0.0737 - val_loss: 0.3136 - val_accuracy: 0.1035\n",
            "Epoch 46/200\n",
            "7704/7704 [==============================] - 0s 50us/step - loss: 0.3042 - accuracy: 0.1035 - val_loss: 0.3134 - val_accuracy: 0.0269\n",
            "Epoch 47/200\n",
            "7704/7704 [==============================] - 0s 51us/step - loss: 0.3047 - accuracy: 0.0862 - val_loss: 0.3143 - val_accuracy: 0.0671\n",
            "Epoch 48/200\n",
            "7704/7704 [==============================] - 0s 50us/step - loss: 0.3044 - accuracy: 0.0727 - val_loss: 0.3143 - val_accuracy: 0.0364\n",
            "Epoch 49/200\n",
            "7704/7704 [==============================] - 0s 52us/step - loss: 0.3049 - accuracy: 0.0765 - val_loss: 0.3148 - val_accuracy: 0.0275\n",
            "Epoch 50/200\n",
            "7704/7704 [==============================] - 0s 51us/step - loss: 0.3046 - accuracy: 0.0742 - val_loss: 0.3134 - val_accuracy: 0.1135\n",
            "Epoch 51/200\n",
            "7704/7704 [==============================] - 0s 50us/step - loss: 0.3041 - accuracy: 0.0811 - val_loss: 0.3137 - val_accuracy: 0.1352\n",
            "Epoch 52/200\n",
            "7704/7704 [==============================] - 0s 50us/step - loss: 0.3041 - accuracy: 0.0852 - val_loss: 0.3134 - val_accuracy: 0.0264\n",
            "Epoch 53/200\n",
            "7704/7704 [==============================] - 0s 51us/step - loss: 0.3038 - accuracy: 0.0816 - val_loss: 0.3135 - val_accuracy: 0.0264\n",
            "Epoch 54/200\n",
            "7704/7704 [==============================] - 0s 49us/step - loss: 0.3046 - accuracy: 0.0868 - val_loss: 0.3140 - val_accuracy: 0.0253\n",
            "Epoch 55/200\n",
            "7704/7704 [==============================] - 0s 51us/step - loss: 0.3040 - accuracy: 0.0890 - val_loss: 0.3129 - val_accuracy: 0.1346\n",
            "Epoch 56/200\n",
            "7704/7704 [==============================] - 0s 50us/step - loss: 0.3032 - accuracy: 0.0815 - val_loss: 0.3122 - val_accuracy: 0.1346\n",
            "Epoch 57/200\n",
            "7704/7704 [==============================] - 0s 50us/step - loss: 0.3023 - accuracy: 0.1023 - val_loss: 0.3095 - val_accuracy: 0.1346\n",
            "Epoch 58/200\n",
            "7704/7704 [==============================] - 0s 51us/step - loss: 0.2995 - accuracy: 0.0901 - val_loss: 0.3030 - val_accuracy: 0.0502\n",
            "Epoch 59/200\n",
            "7704/7704 [==============================] - 0s 48us/step - loss: 0.2957 - accuracy: 0.0727 - val_loss: 0.2982 - val_accuracy: 0.1241\n",
            "Epoch 60/200\n",
            "7704/7704 [==============================] - 0s 52us/step - loss: 0.2931 - accuracy: 0.0936 - val_loss: 0.2952 - val_accuracy: 0.0913\n",
            "Epoch 61/200\n",
            "7704/7704 [==============================] - 0s 49us/step - loss: 0.2920 - accuracy: 0.1064 - val_loss: 0.2955 - val_accuracy: 0.1447\n",
            "Epoch 62/200\n",
            "7704/7704 [==============================] - 0s 52us/step - loss: 0.2908 - accuracy: 0.0900 - val_loss: 0.2927 - val_accuracy: 0.0755\n",
            "Epoch 63/200\n",
            "7704/7704 [==============================] - 0s 49us/step - loss: 0.2914 - accuracy: 0.0915 - val_loss: 0.2929 - val_accuracy: 0.0444\n",
            "Epoch 64/200\n",
            "7704/7704 [==============================] - 0s 49us/step - loss: 0.2897 - accuracy: 0.0936 - val_loss: 0.2913 - val_accuracy: 0.0444\n",
            "Epoch 65/200\n",
            "7704/7704 [==============================] - 0s 52us/step - loss: 0.2892 - accuracy: 0.0971 - val_loss: 0.2929 - val_accuracy: 0.1510\n",
            "Epoch 66/200\n",
            "7704/7704 [==============================] - 0s 49us/step - loss: 0.2897 - accuracy: 0.1068 - val_loss: 0.2935 - val_accuracy: 0.1521\n",
            "Epoch 67/200\n",
            "7704/7704 [==============================] - 0s 51us/step - loss: 0.2913 - accuracy: 0.0885 - val_loss: 0.2916 - val_accuracy: 0.0470\n",
            "Epoch 68/200\n",
            "7704/7704 [==============================] - 0s 49us/step - loss: 0.2884 - accuracy: 0.1124 - val_loss: 0.2918 - val_accuracy: 0.1056\n",
            "Epoch 69/200\n",
            "7704/7704 [==============================] - 0s 51us/step - loss: 0.2892 - accuracy: 0.1001 - val_loss: 0.2922 - val_accuracy: 0.1521\n",
            "Epoch 70/200\n",
            "7704/7704 [==============================] - 0s 52us/step - loss: 0.2887 - accuracy: 0.1050 - val_loss: 0.2915 - val_accuracy: 0.1531\n",
            "Epoch 71/200\n",
            "7704/7704 [==============================] - 0s 51us/step - loss: 0.2887 - accuracy: 0.0954 - val_loss: 0.2915 - val_accuracy: 0.1521\n",
            "Epoch 72/200\n",
            "7704/7704 [==============================] - 0s 51us/step - loss: 0.2889 - accuracy: 0.0945 - val_loss: 0.2909 - val_accuracy: 0.0444\n",
            "Epoch 73/200\n",
            "7704/7704 [==============================] - 0s 49us/step - loss: 0.2884 - accuracy: 0.0950 - val_loss: 0.2920 - val_accuracy: 0.0454\n",
            "Epoch 74/200\n",
            "7704/7704 [==============================] - 0s 49us/step - loss: 0.2893 - accuracy: 0.0783 - val_loss: 0.2921 - val_accuracy: 0.0560\n",
            "Epoch 75/200\n",
            "7704/7704 [==============================] - 0s 52us/step - loss: 0.2885 - accuracy: 0.1006 - val_loss: 0.2907 - val_accuracy: 0.0444\n",
            "Epoch 76/200\n",
            "7704/7704 [==============================] - 0s 49us/step - loss: 0.2884 - accuracy: 0.0839 - val_loss: 0.2908 - val_accuracy: 0.1209\n",
            "Epoch 77/200\n",
            "7704/7704 [==============================] - 0s 50us/step - loss: 0.2883 - accuracy: 0.1128 - val_loss: 0.2913 - val_accuracy: 0.1521\n",
            "Epoch 78/200\n",
            "7704/7704 [==============================] - 0s 52us/step - loss: 0.2881 - accuracy: 0.0976 - val_loss: 0.2904 - val_accuracy: 0.1515\n",
            "Epoch 79/200\n",
            "7704/7704 [==============================] - 0s 49us/step - loss: 0.2888 - accuracy: 0.0835 - val_loss: 0.2909 - val_accuracy: 0.0449\n",
            "Epoch 80/200\n",
            "7704/7704 [==============================] - 0s 52us/step - loss: 0.2880 - accuracy: 0.0936 - val_loss: 0.2905 - val_accuracy: 0.0438\n",
            "Epoch 81/200\n",
            "7704/7704 [==============================] - 0s 49us/step - loss: 0.2886 - accuracy: 0.0987 - val_loss: 0.2911 - val_accuracy: 0.0454\n",
            "Epoch 82/200\n",
            "7704/7704 [==============================] - 0s 52us/step - loss: 0.2881 - accuracy: 0.1070 - val_loss: 0.2924 - val_accuracy: 0.0480\n",
            "Epoch 83/200\n",
            "7704/7704 [==============================] - 0s 50us/step - loss: 0.2904 - accuracy: 0.1038 - val_loss: 0.2907 - val_accuracy: 0.1119\n",
            "Epoch 84/200\n",
            "7704/7704 [==============================] - 0s 49us/step - loss: 0.2890 - accuracy: 0.0907 - val_loss: 0.2921 - val_accuracy: 0.1521\n",
            "Epoch 85/200\n",
            "7704/7704 [==============================] - 0s 52us/step - loss: 0.2887 - accuracy: 0.0964 - val_loss: 0.2900 - val_accuracy: 0.0438\n",
            "Epoch 86/200\n",
            "7704/7704 [==============================] - 0s 50us/step - loss: 0.2880 - accuracy: 0.0945 - val_loss: 0.2905 - val_accuracy: 0.1526\n",
            "Epoch 87/200\n",
            "7704/7704 [==============================] - 0s 52us/step - loss: 0.2886 - accuracy: 0.1168 - val_loss: 0.2910 - val_accuracy: 0.0438\n",
            "Epoch 88/200\n",
            "7704/7704 [==============================] - 0s 51us/step - loss: 0.2895 - accuracy: 0.0931 - val_loss: 0.2905 - val_accuracy: 0.0438\n",
            "Epoch 89/200\n",
            "7704/7704 [==============================] - 0s 51us/step - loss: 0.2882 - accuracy: 0.0813 - val_loss: 0.2897 - val_accuracy: 0.1499\n",
            "Epoch 90/200\n",
            "7704/7704 [==============================] - 0s 53us/step - loss: 0.2883 - accuracy: 0.1098 - val_loss: 0.2904 - val_accuracy: 0.1526\n",
            "Epoch 91/200\n",
            "7704/7704 [==============================] - 0s 51us/step - loss: 0.2884 - accuracy: 0.0761 - val_loss: 0.2910 - val_accuracy: 0.0438\n",
            "Epoch 92/200\n",
            "7704/7704 [==============================] - 0s 50us/step - loss: 0.2880 - accuracy: 0.0931 - val_loss: 0.2940 - val_accuracy: 0.0438\n",
            "Epoch 93/200\n",
            "7704/7704 [==============================] - 0s 53us/step - loss: 0.2887 - accuracy: 0.0948 - val_loss: 0.2905 - val_accuracy: 0.0438\n",
            "Epoch 94/200\n",
            "7704/7704 [==============================] - 0s 50us/step - loss: 0.2888 - accuracy: 0.1058 - val_loss: 0.2919 - val_accuracy: 0.0444\n",
            "Epoch 95/200\n",
            "7704/7704 [==============================] - 0s 51us/step - loss: 0.2886 - accuracy: 0.0907 - val_loss: 0.2917 - val_accuracy: 0.0444\n",
            "Epoch 96/200\n",
            "7704/7704 [==============================] - 0s 49us/step - loss: 0.2888 - accuracy: 0.0864 - val_loss: 0.2917 - val_accuracy: 0.0438\n",
            "Epoch 97/200\n",
            "7704/7704 [==============================] - 0s 52us/step - loss: 0.2891 - accuracy: 0.0805 - val_loss: 0.2913 - val_accuracy: 0.0438\n",
            "Epoch 98/200\n",
            "7704/7704 [==============================] - 0s 52us/step - loss: 0.2900 - accuracy: 0.0951 - val_loss: 0.2928 - val_accuracy: 0.1526\n",
            "Epoch 99/200\n",
            "7704/7704 [==============================] - 0s 49us/step - loss: 0.2892 - accuracy: 0.1138 - val_loss: 0.2902 - val_accuracy: 0.1521\n",
            "Epoch 100/200\n",
            "7704/7704 [==============================] - 0s 52us/step - loss: 0.2883 - accuracy: 0.0980 - val_loss: 0.2901 - val_accuracy: 0.1521\n",
            "Epoch 101/200\n",
            "7704/7704 [==============================] - 0s 50us/step - loss: 0.2883 - accuracy: 0.0985 - val_loss: 0.2914 - val_accuracy: 0.0438\n",
            "Epoch 102/200\n",
            "7704/7704 [==============================] - 0s 50us/step - loss: 0.2876 - accuracy: 0.1005 - val_loss: 0.2911 - val_accuracy: 0.0444\n",
            "Epoch 103/200\n",
            "7704/7704 [==============================] - 0s 50us/step - loss: 0.2881 - accuracy: 0.0902 - val_loss: 0.2898 - val_accuracy: 0.0438\n",
            "Epoch 104/200\n",
            "7704/7704 [==============================] - 0s 49us/step - loss: 0.2877 - accuracy: 0.0924 - val_loss: 0.2912 - val_accuracy: 0.1521\n",
            "Epoch 105/200\n",
            "7704/7704 [==============================] - 0s 53us/step - loss: 0.2879 - accuracy: 0.0914 - val_loss: 0.2920 - val_accuracy: 0.1135\n",
            "Epoch 106/200\n",
            "7704/7704 [==============================] - 0s 49us/step - loss: 0.2877 - accuracy: 0.0922 - val_loss: 0.2900 - val_accuracy: 0.0438\n",
            "Epoch 107/200\n",
            "7704/7704 [==============================] - 0s 49us/step - loss: 0.2887 - accuracy: 0.1018 - val_loss: 0.2981 - val_accuracy: 0.1526\n",
            "Epoch 108/200\n",
            "7704/7704 [==============================] - 0s 52us/step - loss: 0.2901 - accuracy: 0.1111 - val_loss: 0.2893 - val_accuracy: 0.0438\n",
            "Epoch 109/200\n",
            "7704/7704 [==============================] - 0s 50us/step - loss: 0.2869 - accuracy: 0.0932 - val_loss: 0.2897 - val_accuracy: 0.0438\n",
            "Epoch 110/200\n",
            "7704/7704 [==============================] - 0s 49us/step - loss: 0.2875 - accuracy: 0.1059 - val_loss: 0.2904 - val_accuracy: 0.0475\n",
            "Epoch 111/200\n",
            "7704/7704 [==============================] - 0s 50us/step - loss: 0.2876 - accuracy: 0.1076 - val_loss: 0.2901 - val_accuracy: 0.0438\n",
            "Epoch 112/200\n",
            "7704/7704 [==============================] - 0s 48us/step - loss: 0.2879 - accuracy: 0.1092 - val_loss: 0.2907 - val_accuracy: 0.0438\n",
            "Epoch 113/200\n",
            "7704/7704 [==============================] - 0s 51us/step - loss: 0.2875 - accuracy: 0.1045 - val_loss: 0.2923 - val_accuracy: 0.1499\n",
            "Epoch 114/200\n",
            "7704/7704 [==============================] - 0s 50us/step - loss: 0.2903 - accuracy: 0.1028 - val_loss: 0.2897 - val_accuracy: 0.0438\n",
            "Epoch 115/200\n",
            "7704/7704 [==============================] - 0s 49us/step - loss: 0.2876 - accuracy: 0.0875 - val_loss: 0.2904 - val_accuracy: 0.1526\n",
            "Epoch 116/200\n",
            "7704/7704 [==============================] - 0s 50us/step - loss: 0.2877 - accuracy: 0.0877 - val_loss: 0.2912 - val_accuracy: 0.1526\n",
            "Epoch 117/200\n",
            "7704/7704 [==============================] - 0s 49us/step - loss: 0.2883 - accuracy: 0.0970 - val_loss: 0.2915 - val_accuracy: 0.0438\n",
            "Epoch 118/200\n",
            "7704/7704 [==============================] - 0s 50us/step - loss: 0.2885 - accuracy: 0.0837 - val_loss: 0.2897 - val_accuracy: 0.0438\n",
            "Epoch 119/200\n",
            "7704/7704 [==============================] - 0s 49us/step - loss: 0.2883 - accuracy: 0.0711 - val_loss: 0.2920 - val_accuracy: 0.1521\n",
            "Epoch 120/200\n",
            "7704/7704 [==============================] - 0s 50us/step - loss: 0.2880 - accuracy: 0.0989 - val_loss: 0.2931 - val_accuracy: 0.1521\n",
            "Epoch 121/200\n",
            "7704/7704 [==============================] - 0s 50us/step - loss: 0.2888 - accuracy: 0.0903 - val_loss: 0.2909 - val_accuracy: 0.0438\n",
            "Epoch 122/200\n",
            "7704/7704 [==============================] - 0s 48us/step - loss: 0.2877 - accuracy: 0.0953 - val_loss: 0.2905 - val_accuracy: 0.0438\n",
            "Epoch 123/200\n",
            "7704/7704 [==============================] - 0s 52us/step - loss: 0.2884 - accuracy: 0.0957 - val_loss: 0.2923 - val_accuracy: 0.1521\n",
            "Epoch 124/200\n",
            "7704/7704 [==============================] - 0s 50us/step - loss: 0.2892 - accuracy: 0.0994 - val_loss: 0.2904 - val_accuracy: 0.1431\n",
            "Epoch 125/200\n",
            "7704/7704 [==============================] - 0s 52us/step - loss: 0.2879 - accuracy: 0.0994 - val_loss: 0.2892 - val_accuracy: 0.1515\n",
            "Epoch 126/200\n",
            "7704/7704 [==============================] - 0s 51us/step - loss: 0.2886 - accuracy: 0.0964 - val_loss: 0.2898 - val_accuracy: 0.1521\n",
            "Epoch 127/200\n",
            "7704/7704 [==============================] - 0s 51us/step - loss: 0.2885 - accuracy: 0.1041 - val_loss: 0.2902 - val_accuracy: 0.1521\n",
            "Epoch 128/200\n",
            "7704/7704 [==============================] - 0s 51us/step - loss: 0.2877 - accuracy: 0.0879 - val_loss: 0.2924 - val_accuracy: 0.1521\n",
            "Epoch 129/200\n",
            "7704/7704 [==============================] - 0s 51us/step - loss: 0.2881 - accuracy: 0.1070 - val_loss: 0.2924 - val_accuracy: 0.1526\n",
            "Epoch 130/200\n",
            "7704/7704 [==============================] - 0s 49us/step - loss: 0.2893 - accuracy: 0.0858 - val_loss: 0.2908 - val_accuracy: 0.1510\n",
            "Epoch 131/200\n",
            "7704/7704 [==============================] - 0s 50us/step - loss: 0.2883 - accuracy: 0.1055 - val_loss: 0.2914 - val_accuracy: 0.0444\n",
            "Epoch 132/200\n",
            "7704/7704 [==============================] - 0s 49us/step - loss: 0.2880 - accuracy: 0.0975 - val_loss: 0.2898 - val_accuracy: 0.1521\n",
            "Epoch 133/200\n",
            "7704/7704 [==============================] - 0s 52us/step - loss: 0.2892 - accuracy: 0.0990 - val_loss: 0.2919 - val_accuracy: 0.0898\n",
            "Epoch 134/200\n",
            "7704/7704 [==============================] - 0s 50us/step - loss: 0.2887 - accuracy: 0.1046 - val_loss: 0.2905 - val_accuracy: 0.1521\n",
            "Epoch 135/200\n",
            "7704/7704 [==============================] - 0s 49us/step - loss: 0.2884 - accuracy: 0.0901 - val_loss: 0.2904 - val_accuracy: 0.0444\n",
            "Epoch 136/200\n",
            "7704/7704 [==============================] - 0s 49us/step - loss: 0.2890 - accuracy: 0.0919 - val_loss: 0.2905 - val_accuracy: 0.1394\n",
            "Epoch 137/200\n",
            "7704/7704 [==============================] - 0s 49us/step - loss: 0.2867 - accuracy: 0.1097 - val_loss: 0.2902 - val_accuracy: 0.1008\n",
            "Epoch 138/200\n",
            "7704/7704 [==============================] - 0s 50us/step - loss: 0.2874 - accuracy: 0.1119 - val_loss: 0.2911 - val_accuracy: 0.0438\n",
            "Epoch 139/200\n",
            "7704/7704 [==============================] - 0s 50us/step - loss: 0.2871 - accuracy: 0.1007 - val_loss: 0.2900 - val_accuracy: 0.0438\n",
            "Epoch 140/200\n",
            "7704/7704 [==============================] - 0s 49us/step - loss: 0.2884 - accuracy: 0.0788 - val_loss: 0.2897 - val_accuracy: 0.1521\n",
            "Epoch 141/200\n",
            "7704/7704 [==============================] - 0s 49us/step - loss: 0.2888 - accuracy: 0.0985 - val_loss: 0.2898 - val_accuracy: 0.0438\n",
            "Epoch 142/200\n",
            "7704/7704 [==============================] - 0s 50us/step - loss: 0.2867 - accuracy: 0.0951 - val_loss: 0.2909 - val_accuracy: 0.1521\n",
            "Epoch 143/200\n",
            "7704/7704 [==============================] - 0s 50us/step - loss: 0.2876 - accuracy: 0.0983 - val_loss: 0.2924 - val_accuracy: 0.0444\n",
            "Epoch 144/200\n",
            "7704/7704 [==============================] - 0s 49us/step - loss: 0.2885 - accuracy: 0.0906 - val_loss: 0.2918 - val_accuracy: 0.0438\n",
            "Epoch 145/200\n",
            "7704/7704 [==============================] - 0s 49us/step - loss: 0.2890 - accuracy: 0.0950 - val_loss: 0.2927 - val_accuracy: 0.1526\n",
            "Epoch 146/200\n",
            "7704/7704 [==============================] - 0s 51us/step - loss: 0.2892 - accuracy: 0.0857 - val_loss: 0.2922 - val_accuracy: 0.1521\n",
            "Epoch 147/200\n",
            "7704/7704 [==============================] - 0s 51us/step - loss: 0.2877 - accuracy: 0.1019 - val_loss: 0.2895 - val_accuracy: 0.0438\n",
            "Epoch 148/200\n",
            "7704/7704 [==============================] - 0s 50us/step - loss: 0.2866 - accuracy: 0.0923 - val_loss: 0.2911 - val_accuracy: 0.0444\n",
            "Epoch 149/200\n",
            "7704/7704 [==============================] - 0s 50us/step - loss: 0.2880 - accuracy: 0.0967 - val_loss: 0.2910 - val_accuracy: 0.0444\n",
            "Epoch 150/200\n",
            "7704/7704 [==============================] - 0s 50us/step - loss: 0.2885 - accuracy: 0.1040 - val_loss: 0.2901 - val_accuracy: 0.0438\n",
            "Epoch 151/200\n",
            "7704/7704 [==============================] - 0s 50us/step - loss: 0.2881 - accuracy: 0.0981 - val_loss: 0.2961 - val_accuracy: 0.1521\n",
            "Epoch 152/200\n",
            "7704/7704 [==============================] - 0s 50us/step - loss: 0.2887 - accuracy: 0.0964 - val_loss: 0.2896 - val_accuracy: 0.0449\n",
            "Epoch 153/200\n",
            "7704/7704 [==============================] - 0s 50us/step - loss: 0.2900 - accuracy: 0.0916 - val_loss: 0.2914 - val_accuracy: 0.1489\n",
            "Epoch 154/200\n",
            "7704/7704 [==============================] - 0s 50us/step - loss: 0.2875 - accuracy: 0.0959 - val_loss: 0.2907 - val_accuracy: 0.1521\n",
            "Epoch 155/200\n",
            "7704/7704 [==============================] - 0s 50us/step - loss: 0.2880 - accuracy: 0.0992 - val_loss: 0.2900 - val_accuracy: 0.1521\n",
            "Epoch 156/200\n",
            "7704/7704 [==============================] - 0s 51us/step - loss: 0.2875 - accuracy: 0.0845 - val_loss: 0.2901 - val_accuracy: 0.1515\n",
            "Epoch 157/200\n",
            "7704/7704 [==============================] - 0s 49us/step - loss: 0.2889 - accuracy: 0.1046 - val_loss: 0.2910 - val_accuracy: 0.1526\n",
            "Epoch 158/200\n",
            "7704/7704 [==============================] - 0s 50us/step - loss: 0.2879 - accuracy: 0.0927 - val_loss: 0.2896 - val_accuracy: 0.0438\n",
            "Epoch 159/200\n",
            "7704/7704 [==============================] - 0s 50us/step - loss: 0.2876 - accuracy: 0.0798 - val_loss: 0.2899 - val_accuracy: 0.1521\n",
            "Epoch 160/200\n",
            "7704/7704 [==============================] - 0s 50us/step - loss: 0.2877 - accuracy: 0.0955 - val_loss: 0.2898 - val_accuracy: 0.1521\n",
            "Epoch 161/200\n",
            "7704/7704 [==============================] - 0s 52us/step - loss: 0.2889 - accuracy: 0.0897 - val_loss: 0.2911 - val_accuracy: 0.1526\n",
            "Epoch 162/200\n",
            "7704/7704 [==============================] - 0s 50us/step - loss: 0.2878 - accuracy: 0.0905 - val_loss: 0.2898 - val_accuracy: 0.1526\n",
            "Epoch 163/200\n",
            "7704/7704 [==============================] - 0s 50us/step - loss: 0.2870 - accuracy: 0.0992 - val_loss: 0.2918 - val_accuracy: 0.0444\n",
            "Epoch 164/200\n",
            "7704/7704 [==============================] - 0s 50us/step - loss: 0.2891 - accuracy: 0.0819 - val_loss: 0.2913 - val_accuracy: 0.1521\n",
            "Epoch 165/200\n",
            "7704/7704 [==============================] - 0s 51us/step - loss: 0.2891 - accuracy: 0.0916 - val_loss: 0.2905 - val_accuracy: 0.0438\n",
            "Epoch 166/200\n",
            "7704/7704 [==============================] - 0s 48us/step - loss: 0.2899 - accuracy: 0.1055 - val_loss: 0.2899 - val_accuracy: 0.0517\n",
            "Epoch 167/200\n",
            "7704/7704 [==============================] - 0s 50us/step - loss: 0.2872 - accuracy: 0.1041 - val_loss: 0.2897 - val_accuracy: 0.1505\n",
            "Epoch 168/200\n",
            "7704/7704 [==============================] - 0s 50us/step - loss: 0.2875 - accuracy: 0.1011 - val_loss: 0.2893 - val_accuracy: 0.1463\n",
            "Epoch 169/200\n",
            "7704/7704 [==============================] - 0s 50us/step - loss: 0.2883 - accuracy: 0.0815 - val_loss: 0.2928 - val_accuracy: 0.1521\n",
            "Epoch 170/200\n",
            "7704/7704 [==============================] - 0s 49us/step - loss: 0.2877 - accuracy: 0.0989 - val_loss: 0.2893 - val_accuracy: 0.1526\n",
            "Epoch 171/200\n",
            "7704/7704 [==============================] - 0s 52us/step - loss: 0.2875 - accuracy: 0.0884 - val_loss: 0.2890 - val_accuracy: 0.1521\n",
            "Epoch 172/200\n",
            "7704/7704 [==============================] - 0s 50us/step - loss: 0.2879 - accuracy: 0.1025 - val_loss: 0.2919 - val_accuracy: 0.1521\n",
            "Epoch 173/200\n",
            "7704/7704 [==============================] - 0s 51us/step - loss: 0.2889 - accuracy: 0.1063 - val_loss: 0.2908 - val_accuracy: 0.0444\n",
            "Epoch 174/200\n",
            "7704/7704 [==============================] - 0s 49us/step - loss: 0.2885 - accuracy: 0.0801 - val_loss: 0.2921 - val_accuracy: 0.1521\n",
            "Epoch 175/200\n",
            "7704/7704 [==============================] - 0s 49us/step - loss: 0.2881 - accuracy: 0.0832 - val_loss: 0.2904 - val_accuracy: 0.1526\n",
            "Epoch 176/200\n",
            "7704/7704 [==============================] - 0s 51us/step - loss: 0.2886 - accuracy: 0.0968 - val_loss: 0.2940 - val_accuracy: 0.0438\n",
            "Epoch 177/200\n",
            "7704/7704 [==============================] - 0s 51us/step - loss: 0.2894 - accuracy: 0.0898 - val_loss: 0.2901 - val_accuracy: 0.1526\n",
            "Epoch 178/200\n",
            "7704/7704 [==============================] - 0s 51us/step - loss: 0.2878 - accuracy: 0.0970 - val_loss: 0.2892 - val_accuracy: 0.0776\n",
            "Epoch 179/200\n",
            "7704/7704 [==============================] - 0s 49us/step - loss: 0.2866 - accuracy: 0.0929 - val_loss: 0.2889 - val_accuracy: 0.1526\n",
            "Epoch 180/200\n",
            "7704/7704 [==============================] - 0s 50us/step - loss: 0.2905 - accuracy: 0.1096 - val_loss: 0.2920 - val_accuracy: 0.1521\n",
            "Epoch 181/200\n",
            "7704/7704 [==============================] - 0s 50us/step - loss: 0.2875 - accuracy: 0.0940 - val_loss: 0.2883 - val_accuracy: 0.0639\n",
            "Epoch 182/200\n",
            "7704/7704 [==============================] - 0s 50us/step - loss: 0.2867 - accuracy: 0.1009 - val_loss: 0.2902 - val_accuracy: 0.0438\n",
            "Epoch 183/200\n",
            "7704/7704 [==============================] - 0s 51us/step - loss: 0.2873 - accuracy: 0.1055 - val_loss: 0.2914 - val_accuracy: 0.0438\n",
            "Epoch 184/200\n",
            "7704/7704 [==============================] - 0s 49us/step - loss: 0.2884 - accuracy: 0.0854 - val_loss: 0.2902 - val_accuracy: 0.0776\n",
            "Epoch 185/200\n",
            "7704/7704 [==============================] - 0s 49us/step - loss: 0.2876 - accuracy: 0.1007 - val_loss: 0.2940 - val_accuracy: 0.1510\n",
            "Epoch 186/200\n",
            "7704/7704 [==============================] - 0s 49us/step - loss: 0.2890 - accuracy: 0.0889 - val_loss: 0.2890 - val_accuracy: 0.1526\n",
            "Epoch 187/200\n",
            "7704/7704 [==============================] - 0s 49us/step - loss: 0.2876 - accuracy: 0.0798 - val_loss: 0.2931 - val_accuracy: 0.1531\n",
            "Epoch 188/200\n",
            "7704/7704 [==============================] - 0s 49us/step - loss: 0.2894 - accuracy: 0.0829 - val_loss: 0.2900 - val_accuracy: 0.1542\n",
            "Epoch 189/200\n",
            "7704/7704 [==============================] - 0s 50us/step - loss: 0.2889 - accuracy: 0.0983 - val_loss: 0.2901 - val_accuracy: 0.1526\n",
            "Epoch 190/200\n",
            "7704/7704 [==============================] - 0s 50us/step - loss: 0.2899 - accuracy: 0.1024 - val_loss: 0.2914 - val_accuracy: 0.0834\n",
            "Epoch 191/200\n",
            "7704/7704 [==============================] - 0s 51us/step - loss: 0.2926 - accuracy: 0.1028 - val_loss: 0.2908 - val_accuracy: 0.0438\n",
            "Epoch 192/200\n",
            "7704/7704 [==============================] - 0s 50us/step - loss: 0.2872 - accuracy: 0.1090 - val_loss: 0.2896 - val_accuracy: 0.1521\n",
            "Epoch 193/200\n",
            "7704/7704 [==============================] - 0s 50us/step - loss: 0.2885 - accuracy: 0.0859 - val_loss: 0.2894 - val_accuracy: 0.0882\n",
            "Epoch 194/200\n",
            "7704/7704 [==============================] - 0s 51us/step - loss: 0.2880 - accuracy: 0.1050 - val_loss: 0.2921 - val_accuracy: 0.1521\n",
            "Epoch 195/200\n",
            "7704/7704 [==============================] - 0s 51us/step - loss: 0.2879 - accuracy: 0.1228 - val_loss: 0.2899 - val_accuracy: 0.0444\n",
            "Epoch 196/200\n",
            "7704/7704 [==============================] - 0s 50us/step - loss: 0.2864 - accuracy: 0.0863 - val_loss: 0.2884 - val_accuracy: 0.0549\n",
            "Epoch 197/200\n",
            "7704/7704 [==============================] - 0s 50us/step - loss: 0.2898 - accuracy: 0.1073 - val_loss: 0.2963 - val_accuracy: 0.0438\n",
            "Epoch 198/200\n",
            "7704/7704 [==============================] - 0s 50us/step - loss: 0.2905 - accuracy: 0.1106 - val_loss: 0.2895 - val_accuracy: 0.0438\n",
            "Epoch 199/200\n",
            "7704/7704 [==============================] - 0s 50us/step - loss: 0.2881 - accuracy: 0.0846 - val_loss: 0.2901 - val_accuracy: 0.0438\n",
            "Epoch 200/200\n",
            "7704/7704 [==============================] - 0s 52us/step - loss: 0.2878 - accuracy: 0.0948 - val_loss: 0.2903 - val_accuracy: 0.0438\n"
          ],
          "name": "stdout"
        }
      ]
    },
    {
      "cell_type": "code",
      "metadata": {
        "id": "-j2YsYfJfBFM",
        "colab_type": "code",
        "colab": {
          "base_uri": "https://localhost:8080/",
          "height": 404
        },
        "outputId": "4698cc75-f8b7-4ea5-b2d6-4c96ea3f7663"
      },
      "source": [
        "from google.colab import files\n",
        "train = plt.figure()\n",
        "plt.plot(history['loss'], linewidth=2, label='Train')\n",
        "plt.plot(history['val_loss'], linewidth=2, label='Valid')\n",
        "plt.legend(loc='upper right')\n",
        "plt.title('Model loss')\n",
        "plt.ylabel('Loss')\n",
        "plt.xlabel('Epoch')\n",
        "train.show()\n",
        "train.savefig('trainae.png')\n",
        "files.download('trainae.png')"
      ],
      "execution_count": null,
      "outputs": [
        {
          "output_type": "display_data",
          "data": {
            "application/javascript": [
              "\n",
              "    async function download(id, filename, size) {\n",
              "      if (!google.colab.kernel.accessAllowed) {\n",
              "        return;\n",
              "      }\n",
              "      const div = document.createElement('div');\n",
              "      const label = document.createElement('label');\n",
              "      label.textContent = `Downloading \"${filename}\": `;\n",
              "      div.appendChild(label);\n",
              "      const progress = document.createElement('progress');\n",
              "      progress.max = size;\n",
              "      div.appendChild(progress);\n",
              "      document.body.appendChild(div);\n",
              "\n",
              "      const buffers = [];\n",
              "      let downloaded = 0;\n",
              "\n",
              "      const channel = await google.colab.kernel.comms.open(id);\n",
              "      // Send a message to notify the kernel that we're ready.\n",
              "      channel.send({})\n",
              "\n",
              "      for await (const message of channel.messages) {\n",
              "        // Send a message to notify the kernel that we're ready.\n",
              "        channel.send({})\n",
              "        if (message.buffers) {\n",
              "          for (const buffer of message.buffers) {\n",
              "            buffers.push(buffer);\n",
              "            downloaded += buffer.byteLength;\n",
              "            progress.value = downloaded;\n",
              "          }\n",
              "        }\n",
              "      }\n",
              "      const blob = new Blob(buffers, {type: 'application/binary'});\n",
              "      const a = document.createElement('a');\n",
              "      a.href = window.URL.createObjectURL(blob);\n",
              "      a.download = filename;\n",
              "      div.appendChild(a);\n",
              "      a.click();\n",
              "      div.remove();\n",
              "    }\n",
              "  "
            ],
            "text/plain": [
              "<IPython.core.display.Javascript object>"
            ]
          },
          "metadata": {
            "tags": []
          }
        },
        {
          "output_type": "display_data",
          "data": {
            "application/javascript": [
              "download(\"download_00301427-fa69-4bd1-93c3-eb30e0ab6346\", \"trainae.png\", 16155)"
            ],
            "text/plain": [
              "<IPython.core.display.Javascript object>"
            ]
          },
          "metadata": {
            "tags": []
          }
        },
        {
          "output_type": "display_data",
          "data": {
            "image/png": "[encoded data removed]",
            "text/plain": [
              "<Figure size 576x432 with 1 Axes>"
            ]
          },
          "metadata": {
            "tags": [],
            "needs_background": "light"
          }
        }
      ]
    },
    {
      "cell_type": "code",
      "metadata": {
        "id": "UENoZ9lYggDI",
        "colab_type": "code",
        "colab": {
          "base_uri": "https://localhost:8080/",
          "height": 405
        },
        "outputId": "25a5366e-d628-4770-ca74-78c5ca8e8c9d"
      },
      "source": [
        "valid_x_predictions = autoencoder.predict(df_valid_x_rescaled)\n",
        "mae = np.mean(np.abs(df_valid_x_rescaled - valid_x_predictions), axis=1)\n",
        "hist = plt.figure()\n",
        "plt.hist(mae, bins=50)\n",
        "plt.xlabel(\"Train MAE loss\")\n",
        "plt.ylabel(\"No of samples\")\n",
        "hist.show()\n",
        "hist.savefig('hist.png')\n",
        "files.download('hist.png')\n",
        "# Get reconstruction loss threshold.\n",
        "threshold = np.max(mae)\n",
        "print(\"Reconstruction error threshold: \", threshold)"
      ],
      "execution_count": null,
      "outputs": [
        {
          "output_type": "display_data",
          "data": {
            "application/javascript": [
              "\n",
              "    async function download(id, filename, size) {\n",
              "      if (!google.colab.kernel.accessAllowed) {\n",
              "        return;\n",
              "      }\n",
              "      const div = document.createElement('div');\n",
              "      const label = document.createElement('label');\n",
              "      label.textContent = `Downloading \"${filename}\": `;\n",
              "      div.appendChild(label);\n",
              "      const progress = document.createElement('progress');\n",
              "      progress.max = size;\n",
              "      div.appendChild(progress);\n",
              "      document.body.appendChild(div);\n",
              "\n",
              "      const buffers = [];\n",
              "      let downloaded = 0;\n",
              "\n",
              "      const channel = await google.colab.kernel.comms.open(id);\n",
              "      // Send a message to notify the kernel that we're ready.\n",
              "      channel.send({})\n",
              "\n",
              "      for await (const message of channel.messages) {\n",
              "        // Send a message to notify the kernel that we're ready.\n",
              "        channel.send({})\n",
              "        if (message.buffers) {\n",
              "          for (const buffer of message.buffers) {\n",
              "            buffers.push(buffer);\n",
              "            downloaded += buffer.byteLength;\n",
              "            progress.value = downloaded;\n",
              "          }\n",
              "        }\n",
              "      }\n",
              "      const blob = new Blob(buffers, {type: 'application/binary'});\n",
              "      const a = document.createElement('a');\n",
              "      a.href = window.URL.createObjectURL(blob);\n",
              "      a.download = filename;\n",
              "      div.appendChild(a);\n",
              "      a.click();\n",
              "      div.remove();\n",
              "    }\n",
              "  "
            ],
            "text/plain": [
              "<IPython.core.display.Javascript object>"
            ]
          },
          "metadata": {
            "tags": []
          }
        },
        {
          "output_type": "display_data",
          "data": {
            "application/javascript": [
              "download(\"download_de28befa-dceb-4f19-99a4-691f08f726e3\", \"hist.png\", 8941)"
            ],
            "text/plain": [
              "<IPython.core.display.Javascript object>"
            ]
          },
          "metadata": {
            "tags": []
          }
        },
        {
          "output_type": "stream",
          "text": [
            "Reconstruction error threshold:  4.0169136868131705\n"
          ],
          "name": "stdout"
        },
        {
          "output_type": "display_data",
          "data": {
            "image/png": "[encoded data removed]",
            "text/plain": [
              "<Figure size 576x432 with 1 Axes>"
            ]
          },
          "metadata": {
            "tags": [],
            "needs_background": "light"
          }
        }
      ]
    },
    {
      "cell_type": "code",
      "metadata": {
        "id": "HH3EYae7fqtt",
        "colab_type": "code",
        "colab": {
          "base_uri": "https://localhost:8080/",
          "height": 404
        },
        "outputId": "6e8c3d85-d7f0-44de-db02-d357189e4e24"
      },
      "source": [
        "error_df = pd.DataFrame({'Reconstruction_error': mae,\n",
        "                        'True_class': df_valid['class']})\n",
        "precision_rt, recall_rt, threshold_rt = precision_recall_curve(error_df.True_class, error_df.Reconstruction_error)\n",
        "p = plt.figure()\n",
        "plt.plot(threshold_rt, precision_rt[1:], label=\"Precision\",linewidth=5)\n",
        "plt.plot(threshold_rt, recall_rt[1:], label=\"Recall\",linewidth=5)\n",
        "plt.title('Precision and recall for different threshold values')\n",
        "plt.xlabel('Threshold')\n",
        "plt.ylabel('Precision/Recall')\n",
        "plt.legend()\n",
        "p.show()\n",
        "p.savefig('P&Tae.png')\n",
        "files.download('P&Tae.png')"
      ],
      "execution_count": null,
      "outputs": [
        {
          "output_type": "display_data",
          "data": {
            "application/javascript": [
              "\n",
              "    async function download(id, filename, size) {\n",
              "      if (!google.colab.kernel.accessAllowed) {\n",
              "        return;\n",
              "      }\n",
              "      const div = document.createElement('div');\n",
              "      const label = document.createElement('label');\n",
              "      label.textContent = `Downloading \"${filename}\": `;\n",
              "      div.appendChild(label);\n",
              "      const progress = document.createElement('progress');\n",
              "      progress.max = size;\n",
              "      div.appendChild(progress);\n",
              "      document.body.appendChild(div);\n",
              "\n",
              "      const buffers = [];\n",
              "      let downloaded = 0;\n",
              "\n",
              "      const channel = await google.colab.kernel.comms.open(id);\n",
              "      // Send a message to notify the kernel that we're ready.\n",
              "      channel.send({})\n",
              "\n",
              "      for await (const message of channel.messages) {\n",
              "        // Send a message to notify the kernel that we're ready.\n",
              "        channel.send({})\n",
              "        if (message.buffers) {\n",
              "          for (const buffer of message.buffers) {\n",
              "            buffers.push(buffer);\n",
              "            downloaded += buffer.byteLength;\n",
              "            progress.value = downloaded;\n",
              "          }\n",
              "        }\n",
              "      }\n",
              "      const blob = new Blob(buffers, {type: 'application/binary'});\n",
              "      const a = document.createElement('a');\n",
              "      a.href = window.URL.createObjectURL(blob);\n",
              "      a.download = filename;\n",
              "      div.appendChild(a);\n",
              "      a.click();\n",
              "      div.remove();\n",
              "    }\n",
              "  "
            ],
            "text/plain": [
              "<IPython.core.display.Javascript object>"
            ]
          },
          "metadata": {
            "tags": []
          }
        },
        {
          "output_type": "display_data",
          "data": {
            "application/javascript": [
              "download(\"download_9980294b-173e-4f8f-876a-161c529cad5a\", \"P&Tae.png\", 28149)"
            ],
            "text/plain": [
              "<IPython.core.display.Javascript object>"
            ]
          },
          "metadata": {
            "tags": []
          }
        },
        {
          "output_type": "display_data",
          "data": {
            "image/png": "[encoded data removed]",
            "text/plain": [
              "<Figure size 576x432 with 1 Axes>"
            ]
          },
          "metadata": {
            "tags": [],
            "needs_background": "light"
          }
        }
      ]
    },
    {
      "cell_type": "code",
      "metadata": {
        "id": "M_to9nMXgvhZ",
        "colab_type": "code",
        "colab": {
          "base_uri": "https://localhost:8080/",
          "height": 438
        },
        "outputId": "6b7a9a81-42d2-4728-b1fb-4844d70cc748"
      },
      "source": [
        "test_x_predictions = autoencoder.predict(df_test_x_rescaled)\n",
        "mse = np.mean(np.power(df_test_x_rescaled - test_x_predictions, 2), axis=1)\n",
        "error_df_test = pd.DataFrame({'Reconstruction_error': mse,\n",
        "                        'True_class': df_test['class']})\n",
        "error_df_test = error_df_test.reset_index()\n",
        "threshold_fixed = 1\n",
        "groups = error_df_test.groupby('True_class')\n",
        "pp = plt.figure()\n",
        "fig, ax = plt.subplots()\n",
        "for name, group in groups:\n",
        "    ax.plot(group.index, group.Reconstruction_error, marker='o', ms=3.5, linestyle='',\n",
        "            label= \"Break\" if name == 1 else \"Normal\")\n",
        "ax.hlines(threshold_fixed, ax.get_xlim()[0], ax.get_xlim()[1], colors=\"r\", zorder=100, label='Threshold')\n",
        "ax.legend()\n",
        "plt.title(\"Reconstruction error for different classes\")\n",
        "plt.ylabel(\"Reconstruction error\")\n",
        "plt.xlabel(\"Data point index\")\n",
        "pp.show();\n",
        "pp.savefig('plotae.png')\n",
        "files.download('plotae.png')"
      ],
      "execution_count": null,
      "outputs": [
        {
          "output_type": "display_data",
          "data": {
            "application/javascript": [
              "\n",
              "    async function download(id, filename, size) {\n",
              "      if (!google.colab.kernel.accessAllowed) {\n",
              "        return;\n",
              "      }\n",
              "      const div = document.createElement('div');\n",
              "      const label = document.createElement('label');\n",
              "      label.textContent = `Downloading \"${filename}\": `;\n",
              "      div.appendChild(label);\n",
              "      const progress = document.createElement('progress');\n",
              "      progress.max = size;\n",
              "      div.appendChild(progress);\n",
              "      document.body.appendChild(div);\n",
              "\n",
              "      const buffers = [];\n",
              "      let downloaded = 0;\n",
              "\n",
              "      const channel = await google.colab.kernel.comms.open(id);\n",
              "      // Send a message to notify the kernel that we're ready.\n",
              "      channel.send({})\n",
              "\n",
              "      for await (const message of channel.messages) {\n",
              "        // Send a message to notify the kernel that we're ready.\n",
              "        channel.send({})\n",
              "        if (message.buffers) {\n",
              "          for (const buffer of message.buffers) {\n",
              "            buffers.push(buffer);\n",
              "            downloaded += buffer.byteLength;\n",
              "            progress.value = downloaded;\n",
              "          }\n",
              "        }\n",
              "      }\n",
              "      const blob = new Blob(buffers, {type: 'application/binary'});\n",
              "      const a = document.createElement('a');\n",
              "      a.href = window.URL.createObjectURL(blob);\n",
              "      a.download = filename;\n",
              "      div.appendChild(a);\n",
              "      a.click();\n",
              "      div.remove();\n",
              "    }\n",
              "  "
            ],
            "text/plain": [
              "<IPython.core.display.Javascript object>"
            ]
          },
          "metadata": {
            "tags": []
          }
        },
        {
          "output_type": "display_data",
          "data": {
            "application/javascript": [
              "download(\"download_e4b40793-fa22-4f40-ad54-30dc96b910b6\", \"plotae.png\", 2081)"
            ],
            "text/plain": [
              "<IPython.core.display.Javascript object>"
            ]
          },
          "metadata": {
            "tags": []
          }
        },
        {
          "output_type": "display_data",
          "data": {
            "text/plain": [
              "<Figure size 576x432 with 0 Axes>"
            ]
          },
          "metadata": {
            "tags": []
          }
        },
        {
          "output_type": "display_data",
          "data": {
            "image/png": "[encoded data removed]",
            "text/plain": [
              "<Figure size 576x432 with 1 Axes>"
            ]
          },
          "metadata": {
            "tags": [],
            "needs_background": "light"
          }
        }
      ]
    },
    {
      "cell_type": "code",
      "metadata": {
        "id": "QA-DrbXig8C2",
        "colab_type": "code",
        "colab": {
          "base_uri": "https://localhost:8080/",
          "height": 404
        },
        "outputId": "dff02a2c-efb6-4f45-b4d0-a1a8e19c328e"
      },
      "source": [
        "pred_y = [1 if e > threshold_fixed else 0 for e in error_df.Reconstruction_error.values]\n",
        "conf_matrix = confusion_matrix(error_df.True_class, pred_y)\n",
        "cm = plt.figure(figsize=(6, 6))\n",
        "sns.heatmap(conf_matrix, xticklabels=LABELS, yticklabels=LABELS, annot=True, fmt=\"d\");\n",
        "plt.title(\"Confusion matrix\")\n",
        "plt.ylabel('True class')\n",
        "plt.xlabel('Predicted class')\n",
        "cm.show()\n",
        "cm.savefig('matrixae.png')\n",
        "files.download('matrixae.png')"
      ],
      "execution_count": null,
      "outputs": [
        {
          "output_type": "display_data",
          "data": {
            "application/javascript": [
              "\n",
              "    async function download(id, filename, size) {\n",
              "      if (!google.colab.kernel.accessAllowed) {\n",
              "        return;\n",
              "      }\n",
              "      const div = document.createElement('div');\n",
              "      const label = document.createElement('label');\n",
              "      label.textContent = `Downloading \"${filename}\": `;\n",
              "      div.appendChild(label);\n",
              "      const progress = document.createElement('progress');\n",
              "      progress.max = size;\n",
              "      div.appendChild(progress);\n",
              "      document.body.appendChild(div);\n",
              "\n",
              "      const buffers = [];\n",
              "      let downloaded = 0;\n",
              "\n",
              "      const channel = await google.colab.kernel.comms.open(id);\n",
              "      // Send a message to notify the kernel that we're ready.\n",
              "      channel.send({})\n",
              "\n",
              "      for await (const message of channel.messages) {\n",
              "        // Send a message to notify the kernel that we're ready.\n",
              "        channel.send({})\n",
              "        if (message.buffers) {\n",
              "          for (const buffer of message.buffers) {\n",
              "            buffers.push(buffer);\n",
              "            downloaded += buffer.byteLength;\n",
              "            progress.value = downloaded;\n",
              "          }\n",
              "        }\n",
              "      }\n",
              "      const blob = new Blob(buffers, {type: 'application/binary'});\n",
              "      const a = document.createElement('a');\n",
              "      a.href = window.URL.createObjectURL(blob);\n",
              "      a.download = filename;\n",
              "      div.appendChild(a);\n",
              "      a.click();\n",
              "      div.remove();\n",
              "    }\n",
              "  "
            ],
            "text/plain": [
              "<IPython.core.display.Javascript object>"
            ]
          },
          "metadata": {
            "tags": []
          }
        },
        {
          "output_type": "display_data",
          "data": {
            "application/javascript": [
              "download(\"download_b079c102-4f0f-432c-bab4-10db542132e9\", \"matrixae.png\", 14474)"
            ],
            "text/plain": [
              "<IPython.core.display.Javascript object>"
            ]
          },
          "metadata": {
            "tags": []
          }
        },
        {
          "output_type": "display_data",
          "data": {
            "image/png": "[encoded data removed]",
            "text/plain": [
              "<Figure size 432x432 with 2 Axes>"
            ]
          },
          "metadata": {
            "tags": [],
            "needs_background": "light"
          }
        }
      ]
    },
    {
      "cell_type": "code",
      "metadata": {
        "id": "IuZjSKwmhIOP",
        "colab_type": "code",
        "colab": {
          "base_uri": "https://localhost:8080/",
          "height": 404
        },
        "outputId": "a18a461c-7f07-4c31-e74c-10fdc262f45e"
      },
      "source": [
        "false_pos_rate, true_pos_rate, thresholds = roc_curve(error_df.True_class, error_df.Reconstruction_error)\n",
        "roc_auc = auc(false_pos_rate, true_pos_rate,)\n",
        "roc = plt.figure()\n",
        "plt.plot(false_pos_rate, true_pos_rate, linewidth=5, label='AUC = %0.3f'% roc_auc)\n",
        "plt.plot([0,1],[0,1], linewidth=5)\n",
        "plt.xlim([-0.01, 1])\n",
        "plt.ylim([0, 1.01])\n",
        "plt.legend(loc='lower right')\n",
        "plt.title('Receiver operating characteristic curve (ROC)')\n",
        "plt.ylabel('True Positive Rate')\n",
        "plt.xlabel('False Positive Rate')\n",
        "roc.show()\n",
        "roc.savefig('ROCae.png')\n",
        "files.download('ROCae.png')"
      ],
      "execution_count": null,
      "outputs": [
        {
          "output_type": "display_data",
          "data": {
            "application/javascript": [
              "\n",
              "    async function download(id, filename, size) {\n",
              "      if (!google.colab.kernel.accessAllowed) {\n",
              "        return;\n",
              "      }\n",
              "      const div = document.createElement('div');\n",
              "      const label = document.createElement('label');\n",
              "      label.textContent = `Downloading \"${filename}\": `;\n",
              "      div.appendChild(label);\n",
              "      const progress = document.createElement('progress');\n",
              "      progress.max = size;\n",
              "      div.appendChild(progress);\n",
              "      document.body.appendChild(div);\n",
              "\n",
              "      const buffers = [];\n",
              "      let downloaded = 0;\n",
              "\n",
              "      const channel = await google.colab.kernel.comms.open(id);\n",
              "      // Send a message to notify the kernel that we're ready.\n",
              "      channel.send({})\n",
              "\n",
              "      for await (const message of channel.messages) {\n",
              "        // Send a message to notify the kernel that we're ready.\n",
              "        channel.send({})\n",
              "        if (message.buffers) {\n",
              "          for (const buffer of message.buffers) {\n",
              "            buffers.push(buffer);\n",
              "            downloaded += buffer.byteLength;\n",
              "            progress.value = downloaded;\n",
              "          }\n",
              "        }\n",
              "      }\n",
              "      const blob = new Blob(buffers, {type: 'application/binary'});\n",
              "      const a = document.createElement('a');\n",
              "      a.href = window.URL.createObjectURL(blob);\n",
              "      a.download = filename;\n",
              "      div.appendChild(a);\n",
              "      a.click();\n",
              "      div.remove();\n",
              "    }\n",
              "  "
            ],
            "text/plain": [
              "<IPython.core.display.Javascript object>"
            ]
          },
          "metadata": {
            "tags": []
          }
        },
        {
          "output_type": "display_data",
          "data": {
            "application/javascript": [
              "download(\"download_935c198a-be49-4a24-95aa-687ba27e49db\", \"ROCae.png\", 24826)"
            ],
            "text/plain": [
              "<IPython.core.display.Javascript object>"
            ]
          },
          "metadata": {
            "tags": []
          }
        },
        {
          "output_type": "display_data",
          "data": {
            "image/png": "[encoded data removed]",
            "text/plain": [
              "<Figure size 576x432 with 1 Axes>"
            ]
          },
          "metadata": {
            "tags": [],
            "needs_background": "light"
          }
        }
      ]
    },
    {
      "cell_type": "code",
      "metadata": {
        "id": "8Uz7woZeiCQN",
        "colab_type": "code",
        "colab": {}
      },
      "source": [
        ""
      ],
      "execution_count": null,
      "outputs": []
    }
  ]
}