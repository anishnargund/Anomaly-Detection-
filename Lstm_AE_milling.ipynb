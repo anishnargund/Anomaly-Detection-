{
  "nbformat": 4,
  "nbformat_minor": 0,
  "metadata": {
    "colab": {
      "name": "Lstm_AE_milling.ipynb",
      "provenance": [],
      "collapsed_sections": []
    },
    "kernelspec": {
      "name": "python3",
      "display_name": "Python 3"
    },
    "accelerator": "GPU"
  },
  "cells": [
    {
      "cell_type": "code",
      "metadata": {
        "id": "E04jqntSeGEq",
        "colab_type": "code",
        "colab": {
          "base_uri": "https://localhost:8080/",
          "height": 87
        },
        "outputId": "39963961-404e-422d-eca2-5c6fac8d2957"
      },
      "source": [
        "%matplotlib inline\n",
        "import matplotlib.pyplot as plt\n",
        "import seaborn as sns\n",
        "\n",
        "import pandas as pd\n",
        "import numpy as np\n",
        "from pylab import rcParams\n",
        "\n",
        "import tensorflow as tf\n",
        "from keras import optimizers, Sequential\n",
        "from keras.models import Model\n",
        "from keras.utils import plot_model\n",
        "from keras.layers import Dense, LSTM, RepeatVector, TimeDistributed, Dropout\n",
        "from keras.callbacks import ModelCheckpoint, TensorBoard\n",
        "\n",
        "from sklearn.preprocessing import StandardScaler\n",
        "from sklearn.model_selection import train_test_split\n",
        "from sklearn.metrics import confusion_matrix, precision_recall_curve\n",
        "from sklearn.metrics import recall_score, classification_report, auc, roc_curve\n",
        "from sklearn.metrics import precision_recall_fscore_support, f1_score\n",
        "\n",
        "from numpy.random import seed\n",
        "seed(7)\n",
        "tf.random.set_seed(11)\n",
        "from sklearn.model_selection import train_test_split\n",
        "\n",
        "SEED = 123 #used to help randomly select the data points\n",
        "DATA_SPLIT_PCT = 0.2\n",
        "\n",
        "rcParams['figure.figsize'] = 8, 6\n",
        "LABELS = [\"Normal\",\"Break\"]"
      ],
      "execution_count": null,
      "outputs": [
        {
          "output_type": "stream",
          "text": [
            "/usr/local/lib/python3.6/dist-packages/statsmodels/tools/_testing.py:19: FutureWarning: pandas.util.testing is deprecated. Use the functions in the public API at pandas.testing instead.\n",
            "  import pandas.util.testing as tm\n",
            "Using TensorFlow backend.\n"
          ],
          "name": "stderr"
        }
      ]
    },
    {
      "cell_type": "code",
      "metadata": {
        "id": "WXwOGKHuWXli",
        "colab_type": "code",
        "colab": {
          "base_uri": "https://localhost:8080/",
          "height": 120
        },
        "outputId": "672397f0-bbfb-477a-b639-fb40b5aeff5b"
      },
      "source": [
        "from google.colab import drive\n",
        "drive.mount('/content/drive')"
      ],
      "execution_count": null,
      "outputs": [
        {
          "output_type": "stream",
          "text": [
            "Go to this URL in a browser: https://accounts.google.com/o/oauth2/auth?client_id=947318989803-6bn6qk8qdgf4n4g3pfee6491hc0brc4i.apps.googleusercontent.com&redirect_uri=urn%3aietf%3awg%3aoauth%3a2.0%3aoob&response_type=code&scope=email%20https%3a%2f%2fwww.googleapis.com%2fauth%2fdocs.test%20https%3a%2f%2fwww.googleapis.com%2fauth%2fdrive%20https%3a%2f%2fwww.googleapis.com%2fauth%2fdrive.photos.readonly%20https%3a%2f%2fwww.googleapis.com%2fauth%2fpeopleapi.readonly\n",
            "\n",
            "Enter your authorization code:\n",
            "··········\n",
            "Mounted at /content/drive\n"
          ],
          "name": "stdout"
        }
      ]
    },
    {
      "cell_type": "code",
      "metadata": {
        "id": "f8dFJ4ncXmOG",
        "colab_type": "code",
        "colab": {
          "base_uri": "https://localhost:8080/",
          "height": 216
        },
        "outputId": "966fcad8-e37a-4ffa-ed31-45201ca5d681"
      },
      "source": [
        "df1 = pd.read_csv('/content/drive/My Drive/N.csv')\n",
        "df1.head()\n",
        "df2 = pd.read_csv('/content/drive/My Drive/F.csv')\n",
        "df2.head()"
      ],
      "execution_count": null,
      "outputs": [
        {
          "output_type": "execute_result",
          "data": {
            "text/html": [
              "<div>\n",
              "<style scoped>\n",
              "    .dataframe tbody tr th:only-of-type {\n",
              "        vertical-align: middle;\n",
              "    }\n",
              "\n",
              "    .dataframe tbody tr th {\n",
              "        vertical-align: top;\n",
              "    }\n",
              "\n",
              "    .dataframe thead th {\n",
              "        text-align: right;\n",
              "    }\n",
              "</style>\n",
              "<table border=\"1\" class=\"dataframe\">\n",
              "  <thead>\n",
              "    <tr style=\"text-align: right;\">\n",
              "      <th></th>\n",
              "      <th>X1_ActualPosition</th>\n",
              "      <th>X1_ActualVelocity</th>\n",
              "      <th>X1_ActualAcceleration</th>\n",
              "      <th>X1_CommandPosition</th>\n",
              "      <th>X1_CommandVelocity</th>\n",
              "      <th>X1_CommandAcceleration</th>\n",
              "      <th>X1_CurrentFeedback</th>\n",
              "      <th>X1_DCBusVoltage</th>\n",
              "      <th>X1_OutputCurrent</th>\n",
              "      <th>X1_OutputVoltage</th>\n",
              "      <th>X1_OutputPower</th>\n",
              "      <th>Y1_ActualPosition</th>\n",
              "      <th>Y1_ActualVelocity</th>\n",
              "      <th>Y1_ActualAcceleration</th>\n",
              "      <th>Y1_CommandPosition</th>\n",
              "      <th>Y1_CommandVelocity</th>\n",
              "      <th>Y1_CommandAcceleration</th>\n",
              "      <th>Y1_CurrentFeedback</th>\n",
              "      <th>Y1_DCBusVoltage</th>\n",
              "      <th>Y1_OutputCurrent</th>\n",
              "      <th>Y1_OutputVoltage</th>\n",
              "      <th>Y1_OutputPower</th>\n",
              "      <th>Z1_ActualPosition</th>\n",
              "      <th>Z1_ActualVelocity</th>\n",
              "      <th>Z1_ActualAcceleration</th>\n",
              "      <th>Z1_CommandPosition</th>\n",
              "      <th>Z1_CommandVelocity</th>\n",
              "      <th>Z1_CommandAcceleration</th>\n",
              "      <th>Z1_CurrentFeedback</th>\n",
              "      <th>Z1_DCBusVoltage</th>\n",
              "      <th>Z1_OutputCurrent</th>\n",
              "      <th>Z1_OutputVoltage</th>\n",
              "      <th>S1_ActualPosition</th>\n",
              "      <th>S1_ActualVelocity</th>\n",
              "      <th>S1_ActualAcceleration</th>\n",
              "      <th>S1_CommandPosition</th>\n",
              "      <th>S1_CommandVelocity</th>\n",
              "      <th>S1_CommandAcceleration</th>\n",
              "      <th>S1_CurrentFeedback</th>\n",
              "      <th>S1_DCBusVoltage</th>\n",
              "      <th>S1_OutputCurrent</th>\n",
              "      <th>S1_OutputVoltage</th>\n",
              "      <th>S1_OutputPower</th>\n",
              "      <th>S1_SystemInertia</th>\n",
              "      <th>M1_CURRENT_PROGRAM_NUMBER</th>\n",
              "      <th>M1_sequence_number</th>\n",
              "      <th>M1_CURRENT_FEEDRATE</th>\n",
              "      <th>class</th>\n",
              "    </tr>\n",
              "  </thead>\n",
              "  <tbody>\n",
              "    <tr>\n",
              "      <th>0</th>\n",
              "      <td>198</td>\n",
              "      <td>0.000</td>\n",
              "      <td>6.25</td>\n",
              "      <td>198</td>\n",
              "      <td>0.0</td>\n",
              "      <td>0.0</td>\n",
              "      <td>-1.100</td>\n",
              "      <td>0.0191</td>\n",
              "      <td>328</td>\n",
              "      <td>1.670</td>\n",
              "      <td>0.0</td>\n",
              "      <td>158.0</td>\n",
              "      <td>-0.050</td>\n",
              "      <td>-31.3</td>\n",
              "      <td>158.0</td>\n",
              "      <td>0.0</td>\n",
              "      <td>0.0</td>\n",
              "      <td>-1.0500</td>\n",
              "      <td>0.0231</td>\n",
              "      <td>327</td>\n",
              "      <td>2.450</td>\n",
              "      <td>0.0</td>\n",
              "      <td>119.0</td>\n",
              "      <td>-0.025</td>\n",
              "      <td>-6.25</td>\n",
              "      <td>119.0</td>\n",
              "      <td>0.0</td>\n",
              "      <td>0.0</td>\n",
              "      <td>0</td>\n",
              "      <td>0</td>\n",
              "      <td>0</td>\n",
              "      <td>0</td>\n",
              "      <td>-978.0</td>\n",
              "      <td>0.00000</td>\n",
              "      <td>-0.50</td>\n",
              "      <td>-978.0</td>\n",
              "      <td>0.0</td>\n",
              "      <td>0</td>\n",
              "      <td>-0.415</td>\n",
              "      <td>0.0</td>\n",
              "      <td>328</td>\n",
              "      <td>0.0</td>\n",
              "      <td>-0.00001</td>\n",
              "      <td>12</td>\n",
              "      <td>1</td>\n",
              "      <td>2</td>\n",
              "      <td>50</td>\n",
              "      <td>1</td>\n",
              "    </tr>\n",
              "    <tr>\n",
              "      <th>1</th>\n",
              "      <td>198</td>\n",
              "      <td>0.025</td>\n",
              "      <td>18.80</td>\n",
              "      <td>198</td>\n",
              "      <td>0.0</td>\n",
              "      <td>0.0</td>\n",
              "      <td>0.499</td>\n",
              "      <td>0.0211</td>\n",
              "      <td>328</td>\n",
              "      <td>1.540</td>\n",
              "      <td>0.0</td>\n",
              "      <td>158.0</td>\n",
              "      <td>-0.025</td>\n",
              "      <td>-12.5</td>\n",
              "      <td>158.0</td>\n",
              "      <td>0.0</td>\n",
              "      <td>0.0</td>\n",
              "      <td>0.0623</td>\n",
              "      <td>0.0217</td>\n",
              "      <td>327</td>\n",
              "      <td>1.160</td>\n",
              "      <td>0.0</td>\n",
              "      <td>119.0</td>\n",
              "      <td>0.000</td>\n",
              "      <td>0.00</td>\n",
              "      <td>119.0</td>\n",
              "      <td>0.0</td>\n",
              "      <td>0.0</td>\n",
              "      <td>0</td>\n",
              "      <td>0</td>\n",
              "      <td>0</td>\n",
              "      <td>0</td>\n",
              "      <td>-978.0</td>\n",
              "      <td>-0.00100</td>\n",
              "      <td>-0.75</td>\n",
              "      <td>-978.0</td>\n",
              "      <td>0.0</td>\n",
              "      <td>0</td>\n",
              "      <td>0.883</td>\n",
              "      <td>0.0</td>\n",
              "      <td>328</td>\n",
              "      <td>0.0</td>\n",
              "      <td>0.00000</td>\n",
              "      <td>12</td>\n",
              "      <td>1</td>\n",
              "      <td>0</td>\n",
              "      <td>50</td>\n",
              "      <td>1</td>\n",
              "    </tr>\n",
              "    <tr>\n",
              "      <th>2</th>\n",
              "      <td>198</td>\n",
              "      <td>0.000</td>\n",
              "      <td>12.50</td>\n",
              "      <td>198</td>\n",
              "      <td>0.0</td>\n",
              "      <td>0.0</td>\n",
              "      <td>1.140</td>\n",
              "      <td>0.0170</td>\n",
              "      <td>328</td>\n",
              "      <td>2.320</td>\n",
              "      <td>0.0</td>\n",
              "      <td>158.0</td>\n",
              "      <td>-0.025</td>\n",
              "      <td>-18.8</td>\n",
              "      <td>158.0</td>\n",
              "      <td>0.0</td>\n",
              "      <td>0.0</td>\n",
              "      <td>0.3740</td>\n",
              "      <td>0.0180</td>\n",
              "      <td>327</td>\n",
              "      <td>0.764</td>\n",
              "      <td>0.0</td>\n",
              "      <td>119.0</td>\n",
              "      <td>0.000</td>\n",
              "      <td>0.00</td>\n",
              "      <td>119.0</td>\n",
              "      <td>0.0</td>\n",
              "      <td>0.0</td>\n",
              "      <td>0</td>\n",
              "      <td>0</td>\n",
              "      <td>0</td>\n",
              "      <td>0</td>\n",
              "      <td>-978.0</td>\n",
              "      <td>0.00325</td>\n",
              "      <td>1.31</td>\n",
              "      <td>-978.0</td>\n",
              "      <td>0.0</td>\n",
              "      <td>0</td>\n",
              "      <td>-0.415</td>\n",
              "      <td>0.0</td>\n",
              "      <td>328</td>\n",
              "      <td>0.0</td>\n",
              "      <td>0.00000</td>\n",
              "      <td>12</td>\n",
              "      <td>1</td>\n",
              "      <td>0</td>\n",
              "      <td>50</td>\n",
              "      <td>1</td>\n",
              "    </tr>\n",
              "    <tr>\n",
              "      <th>3</th>\n",
              "      <td>198</td>\n",
              "      <td>0.000</td>\n",
              "      <td>0.00</td>\n",
              "      <td>198</td>\n",
              "      <td>0.0</td>\n",
              "      <td>0.0</td>\n",
              "      <td>-0.300</td>\n",
              "      <td>0.0152</td>\n",
              "      <td>328</td>\n",
              "      <td>0.812</td>\n",
              "      <td>0.0</td>\n",
              "      <td>158.0</td>\n",
              "      <td>-0.050</td>\n",
              "      <td>-25.0</td>\n",
              "      <td>158.0</td>\n",
              "      <td>0.0</td>\n",
              "      <td>0.0</td>\n",
              "      <td>-0.4130</td>\n",
              "      <td>0.0232</td>\n",
              "      <td>327</td>\n",
              "      <td>2.620</td>\n",
              "      <td>0.0</td>\n",
              "      <td>119.0</td>\n",
              "      <td>-0.025</td>\n",
              "      <td>-6.25</td>\n",
              "      <td>119.0</td>\n",
              "      <td>0.0</td>\n",
              "      <td>0.0</td>\n",
              "      <td>0</td>\n",
              "      <td>0</td>\n",
              "      <td>0</td>\n",
              "      <td>0</td>\n",
              "      <td>-978.0</td>\n",
              "      <td>0.00000</td>\n",
              "      <td>-0.25</td>\n",
              "      <td>-978.0</td>\n",
              "      <td>0.0</td>\n",
              "      <td>0</td>\n",
              "      <td>-0.152</td>\n",
              "      <td>0.0</td>\n",
              "      <td>328</td>\n",
              "      <td>0.0</td>\n",
              "      <td>-0.00001</td>\n",
              "      <td>12</td>\n",
              "      <td>1</td>\n",
              "      <td>0</td>\n",
              "      <td>50</td>\n",
              "      <td>1</td>\n",
              "    </tr>\n",
              "    <tr>\n",
              "      <th>4</th>\n",
              "      <td>198</td>\n",
              "      <td>0.000</td>\n",
              "      <td>0.00</td>\n",
              "      <td>198</td>\n",
              "      <td>0.0</td>\n",
              "      <td>0.0</td>\n",
              "      <td>-0.459</td>\n",
              "      <td>0.0237</td>\n",
              "      <td>328</td>\n",
              "      <td>1.120</td>\n",
              "      <td>0.0</td>\n",
              "      <td>158.0</td>\n",
              "      <td>-0.050</td>\n",
              "      <td>-25.0</td>\n",
              "      <td>158.0</td>\n",
              "      <td>0.0</td>\n",
              "      <td>0.0</td>\n",
              "      <td>-0.5700</td>\n",
              "      <td>0.0179</td>\n",
              "      <td>326</td>\n",
              "      <td>2.330</td>\n",
              "      <td>0.0</td>\n",
              "      <td>119.0</td>\n",
              "      <td>0.000</td>\n",
              "      <td>0.00</td>\n",
              "      <td>119.0</td>\n",
              "      <td>0.0</td>\n",
              "      <td>0.0</td>\n",
              "      <td>0</td>\n",
              "      <td>0</td>\n",
              "      <td>0</td>\n",
              "      <td>0</td>\n",
              "      <td>-978.0</td>\n",
              "      <td>0.00000</td>\n",
              "      <td>-0.25</td>\n",
              "      <td>-978.0</td>\n",
              "      <td>0.0</td>\n",
              "      <td>0</td>\n",
              "      <td>-0.679</td>\n",
              "      <td>0.0</td>\n",
              "      <td>327</td>\n",
              "      <td>0.0</td>\n",
              "      <td>0.00000</td>\n",
              "      <td>12</td>\n",
              "      <td>1</td>\n",
              "      <td>0</td>\n",
              "      <td>50</td>\n",
              "      <td>1</td>\n",
              "    </tr>\n",
              "  </tbody>\n",
              "</table>\n",
              "</div>"
            ],
            "text/plain": [
              "   X1_ActualPosition  X1_ActualVelocity  ...  M1_CURRENT_FEEDRATE  class\n",
              "0                198              0.000  ...                   50      1\n",
              "1                198              0.025  ...                   50      1\n",
              "2                198              0.000  ...                   50      1\n",
              "3                198              0.000  ...                   50      1\n",
              "4                198              0.000  ...                   50      1\n",
              "\n",
              "[5 rows x 48 columns]"
            ]
          },
          "metadata": {
            "tags": []
          },
          "execution_count": 3
        }
      ]
    },
    {
      "cell_type": "code",
      "metadata": {
        "id": "K23Hue4UXpRH",
        "colab_type": "code",
        "colab": {
          "base_uri": "https://localhost:8080/",
          "height": 33
        },
        "outputId": "4b4fc7d4-3c88-4111-e157-98fc2ce941d6"
      },
      "source": [
        "df2 = df2.sample(3327)\n",
        "df = df1.append(df2,ignore_index= True)\n",
        "df.shape"
      ],
      "execution_count": null,
      "outputs": [
        {
          "output_type": "execute_result",
          "data": {
            "text/plain": [
              "(15305, 48)"
            ]
          },
          "metadata": {
            "tags": []
          },
          "execution_count": 4
        }
      ]
    },
    {
      "cell_type": "code",
      "metadata": {
        "id": "XBL0WAvfYF0Z",
        "colab_type": "code",
        "colab": {}
      },
      "source": [
        "input_X = df.loc[:, df.columns != 'class'].values  # converts the df to a numpy array\n",
        "\n",
        "input_y = df['class'].values\n",
        "\n",
        "n_features = input_X.shape[1]  # number of features"
      ],
      "execution_count": null,
      "outputs": []
    },
    {
      "cell_type": "code",
      "metadata": {
        "id": "PJ2PHvOuqYMk",
        "colab_type": "code",
        "colab": {
          "base_uri": "https://localhost:8080/",
          "height": 33
        },
        "outputId": "c319ea4b-3466-40d9-9ba0-9db3aaf91d74"
      },
      "source": [
        "print(n_features)"
      ],
      "execution_count": null,
      "outputs": [
        {
          "output_type": "stream",
          "text": [
            "47\n"
          ],
          "name": "stdout"
        }
      ]
    },
    {
      "cell_type": "code",
      "metadata": {
        "id": "Z1yp3i4vS3oW",
        "colab_type": "code",
        "colab": {}
      },
      "source": [
        "def temporalize(X, y, lookback):\n",
        "    output_X = []\n",
        "    output_y = []\n",
        "    for i in range(len(X) - lookback - 1):\n",
        "        t = []\n",
        "        for j in range(1, lookback + 1):\n",
        "            # Gather the past records upto the lookback period\n",
        "            t.append(X[[(i + j + 1)], :])\n",
        "        output_X.append(t)\n",
        "        output_y.append(y[i + lookback + 1])\n",
        "    return np.squeeze(np.array(output_X)), np.array(output_y)"
      ],
      "execution_count": null,
      "outputs": []
    },
    {
      "cell_type": "code",
      "metadata": {
        "id": "ho2Zrfw5bjqc",
        "colab_type": "code",
        "colab": {
          "base_uri": "https://localhost:8080/",
          "height": 1000
        },
        "outputId": "2b982eef-e348-4f3f-ccce-00c2a3d75093"
      },
      "source": [
        "lookback = 12\n",
        "# Temporalize the data\n",
        "X, y = temporalize(X = input_X, y = input_y, lookback = lookback)\n",
        "display(pd.DataFrame(np.concatenate(X[np.where(np.array(y) == 1)[0][0]], axis=0 )))\n",
        "print(X)"
      ],
      "execution_count": null,
      "outputs": [
        {
          "output_type": "display_data",
          "data": {
            "text/html": [
              "<div>\n",
              "<style scoped>\n",
              "    .dataframe tbody tr th:only-of-type {\n",
              "        vertical-align: middle;\n",
              "    }\n",
              "\n",
              "    .dataframe tbody tr th {\n",
              "        vertical-align: top;\n",
              "    }\n",
              "\n",
              "    .dataframe thead th {\n",
              "        text-align: right;\n",
              "    }\n",
              "</style>\n",
              "<table border=\"1\" class=\"dataframe\">\n",
              "  <thead>\n",
              "    <tr style=\"text-align: right;\">\n",
              "      <th></th>\n",
              "      <th>0</th>\n",
              "    </tr>\n",
              "  </thead>\n",
              "  <tbody>\n",
              "    <tr>\n",
              "      <th>0</th>\n",
              "      <td>157.000</td>\n",
              "    </tr>\n",
              "    <tr>\n",
              "      <th>1</th>\n",
              "      <td>2.950</td>\n",
              "    </tr>\n",
              "    <tr>\n",
              "      <th>2</th>\n",
              "      <td>18.800</td>\n",
              "    </tr>\n",
              "    <tr>\n",
              "      <th>3</th>\n",
              "      <td>157.000</td>\n",
              "    </tr>\n",
              "    <tr>\n",
              "      <th>4</th>\n",
              "      <td>3.000</td>\n",
              "    </tr>\n",
              "    <tr>\n",
              "      <th>...</th>\n",
              "      <td>...</td>\n",
              "    </tr>\n",
              "    <tr>\n",
              "      <th>559</th>\n",
              "      <td>0.164</td>\n",
              "    </tr>\n",
              "    <tr>\n",
              "      <th>560</th>\n",
              "      <td>12.000</td>\n",
              "    </tr>\n",
              "    <tr>\n",
              "      <th>561</th>\n",
              "      <td>1.000</td>\n",
              "    </tr>\n",
              "    <tr>\n",
              "      <th>562</th>\n",
              "      <td>15.000</td>\n",
              "    </tr>\n",
              "    <tr>\n",
              "      <th>563</th>\n",
              "      <td>6.000</td>\n",
              "    </tr>\n",
              "  </tbody>\n",
              "</table>\n",
              "<p>564 rows × 1 columns</p>\n",
              "</div>"
            ],
            "text/plain": [
              "           0\n",
              "0    157.000\n",
              "1      2.950\n",
              "2     18.800\n",
              "3    157.000\n",
              "4      3.000\n",
              "..       ...\n",
              "559    0.164\n",
              "560   12.000\n",
              "561    1.000\n",
              "562   15.000\n",
              "563    6.000\n",
              "\n",
              "[564 rows x 1 columns]"
            ]
          },
          "metadata": {
            "tags": []
          }
        },
        {
          "output_type": "stream",
          "text": [
            "[[[ 1.96e+02 -1.78e+01 -6.25e+00 ...  1.00e+00  7.00e+00  5.00e+01]\n",
            "  [ 1.94e+02 -1.80e+01  0.00e+00 ...  1.00e+00  7.00e+00  5.00e+01]\n",
            "  [ 1.93e+02 -1.79e+01 -1.88e+01 ...  1.00e+00  7.00e+00  5.00e+01]\n",
            "  ...\n",
            "  [ 1.80e+02 -1.77e+01  6.25e+01 ...  1.00e+00  7.00e+00  5.00e+01]\n",
            "  [ 1.78e+02 -1.79e+01 -3.75e+01 ...  1.00e+00  7.00e+00  5.00e+01]\n",
            "  [ 1.76e+02 -1.78e+01  1.06e+02 ...  1.00e+00  7.00e+00  5.00e+01]]\n",
            "\n",
            " [[ 1.94e+02 -1.80e+01  0.00e+00 ...  1.00e+00  7.00e+00  5.00e+01]\n",
            "  [ 1.93e+02 -1.79e+01 -1.88e+01 ...  1.00e+00  7.00e+00  5.00e+01]\n",
            "  [ 1.91e+02 -1.76e+01  8.12e+01 ...  1.00e+00  7.00e+00  5.00e+01]\n",
            "  ...\n",
            "  [ 1.78e+02 -1.79e+01 -3.75e+01 ...  1.00e+00  7.00e+00  5.00e+01]\n",
            "  [ 1.76e+02 -1.78e+01  1.06e+02 ...  1.00e+00  7.00e+00  5.00e+01]\n",
            "  [ 1.75e+02 -1.78e+01  4.38e+01 ...  1.00e+00  7.00e+00  5.00e+01]]\n",
            "\n",
            " [[ 1.93e+02 -1.79e+01 -1.88e+01 ...  1.00e+00  7.00e+00  5.00e+01]\n",
            "  [ 1.91e+02 -1.76e+01  8.12e+01 ...  1.00e+00  7.00e+00  5.00e+01]\n",
            "  [ 1.89e+02 -1.79e+01 -6.25e+00 ...  1.00e+00  2.00e+00  5.00e+01]\n",
            "  ...\n",
            "  [ 1.76e+02 -1.78e+01  1.06e+02 ...  1.00e+00  7.00e+00  5.00e+01]\n",
            "  [ 1.75e+02 -1.78e+01  4.38e+01 ...  1.00e+00  7.00e+00  5.00e+01]\n",
            "  [ 1.73e+02 -1.80e+01 -2.50e+01 ...  1.00e+00  7.00e+00  5.00e+01]]\n",
            "\n",
            " ...\n",
            "\n",
            " [[ 1.62e+02 -1.50e-01 -6.87e+01 ...  1.00e+00  1.25e+02  3.00e+00]\n",
            "  [ 1.42e+02 -1.40e+00  0.00e+00 ...  1.00e+00  2.50e+01  3.00e+00]\n",
            "  [ 1.41e+02  2.00e-01  9.37e+01 ...  1.00e+00  0.00e+00  5.00e+01]\n",
            "  ...\n",
            "  [ 1.44e+02  1.50e+01  0.00e+00 ...  1.00e+00  5.80e+01  1.50e+01]\n",
            "  [ 1.59e+02  9.75e-01  5.12e+02 ...  1.00e+00  1.26e+02  3.00e+00]\n",
            "  [ 1.49e+02 -6.05e+00  2.50e+01 ...  1.00e+00  1.17e+02  6.00e+00]]\n",
            "\n",
            " [[ 1.42e+02 -1.40e+00  0.00e+00 ...  1.00e+00  2.50e+01  3.00e+00]\n",
            "  [ 1.41e+02  2.00e-01  9.37e+01 ...  1.00e+00  0.00e+00  5.00e+01]\n",
            "  [ 1.59e+02  1.17e+00 -1.06e+02 ...  1.00e+00  2.00e+00  1.50e+01]\n",
            "  ...\n",
            "  [ 1.59e+02  9.75e-01  5.12e+02 ...  1.00e+00  1.26e+02  3.00e+00]\n",
            "  [ 1.49e+02 -6.05e+00  2.50e+01 ...  1.00e+00  1.17e+02  6.00e+00]\n",
            "  [ 1.98e+02  0.00e+00  0.00e+00 ...  1.00e+00  0.00e+00  5.00e+01]]\n",
            "\n",
            " [[ 1.41e+02  2.00e-01  9.37e+01 ...  1.00e+00  0.00e+00  5.00e+01]\n",
            "  [ 1.59e+02  1.17e+00 -1.06e+02 ...  1.00e+00  2.00e+00  1.50e+01]\n",
            "  [ 1.41e+02  2.50e-02  1.88e+01 ...  1.00e+00  0.00e+00  5.00e+01]\n",
            "  ...\n",
            "  [ 1.49e+02 -6.05e+00  2.50e+01 ...  1.00e+00  1.17e+02  6.00e+00]\n",
            "  [ 1.98e+02  0.00e+00  0.00e+00 ...  1.00e+00  0.00e+00  5.00e+01]\n",
            "  [ 1.62e+02  5.00e-02  3.75e+01 ...  1.00e+00  2.00e+00  1.20e+01]]]\n"
          ],
          "name": "stdout"
        }
      ]
    },
    {
      "cell_type": "code",
      "metadata": {
        "id": "BYI8Z95DSKvB",
        "colab_type": "code",
        "colab": {}
      },
      "source": [
        "X_train, X_test, y_train, y_test = train_test_split(np.array(X), np.array(y), test_size=DATA_SPLIT_PCT, random_state=SEED)\n",
        "X_train, X_valid, y_train, y_valid = train_test_split(X_train, y_train, test_size=DATA_SPLIT_PCT, random_state=SEED)"
      ],
      "execution_count": null,
      "outputs": []
    },
    {
      "cell_type": "code",
      "metadata": {
        "id": "IohNtjDcwZEh",
        "colab_type": "code",
        "colab": {}
      },
      "source": [
        "X_train_y0 = X_train[y_train==0]\n",
        "X_train_y1 = X_train[y_train==1]\n",
        "X_valid_y0 = X_valid[y_valid==0]\n",
        "X_valid_y1 = X_valid[y_valid==1]"
      ],
      "execution_count": null,
      "outputs": []
    },
    {
      "cell_type": "code",
      "metadata": {
        "id": "untjJ8kAyr-K",
        "colab_type": "code",
        "colab": {}
      },
      "source": [
        "X_train = X_train.reshape(X_train.shape[0], lookback, n_features)\n",
        "X_train_y0 = X_train_y0.reshape(X_train_y0.shape[0], lookback, n_features)\n",
        "X_train_y1 = X_train_y1.reshape(X_train_y1.shape[0], lookback, n_features)\n",
        "X_valid = X_valid.reshape(X_valid.shape[0], lookback, n_features)\n",
        "X_valid_y0 = X_valid_y0.reshape(X_valid_y0.shape[0], lookback, n_features)\n",
        "X_valid_y1 = X_valid_y1.reshape(X_valid_y1.shape[0], lookback, n_features)\n",
        "X_test = X_test.reshape(X_test.shape[0], lookback, n_features)"
      ],
      "execution_count": null,
      "outputs": []
    },
    {
      "cell_type": "code",
      "metadata": {
        "id": "mw5yLcte1eRk",
        "colab_type": "code",
        "colab": {}
      },
      "source": [
        "def flatten(X):\n",
        "    flattened_X = np.empty((X.shape[0], X.shape[2]))  # sample x features array.\n",
        "    for i in range(X.shape[0]):\n",
        "        flattened_X[i] = X[i, (X.shape[1]-1), :]\n",
        "    return(flattened_X)\n",
        "\n",
        "def scale(X, scaler):\n",
        "    for i in range(X.shape[0]):\n",
        "        X[i, :, :] = scaler.transform(X[i, :, :])\n",
        "        \n",
        "    return X"
      ],
      "execution_count": null,
      "outputs": []
    },
    {
      "cell_type": "code",
      "metadata": {
        "id": "2VkOxiNl3PmS",
        "colab_type": "code",
        "colab": {}
      },
      "source": [
        "# Initialize a scaler using the training data.\n",
        "scaler = StandardScaler().fit(flatten(X_train_y0))"
      ],
      "execution_count": null,
      "outputs": []
    },
    {
      "cell_type": "code",
      "metadata": {
        "id": "baNkgUjFFVcU",
        "colab_type": "code",
        "colab": {}
      },
      "source": [
        "X_train_y0_scaled = scale(X_train_y0, scaler)"
      ],
      "execution_count": null,
      "outputs": []
    },
    {
      "cell_type": "code",
      "metadata": {
        "id": "UN01jEj_FX-p",
        "colab_type": "code",
        "colab": {
          "base_uri": "https://localhost:8080/",
          "height": 100
        },
        "outputId": "ccf55de2-b8d4-4822-ac78-d63f13d7d1ab"
      },
      "source": [
        "a = flatten(X_train_y0_scaled)\n",
        "print('colwise mean', np.mean(a, axis=0).round(6))\n",
        "print('colwise variance', np.var(a, axis=0))"
      ],
      "execution_count": null,
      "outputs": [
        {
          "output_type": "stream",
          "text": [
            "colwise mean [ 0.  0.  0.  0. -0. -0.  0. -0. -0.  0.  0. -0. -0. -0. -0.  0.  0. -0.\n",
            "  0.  0.  0. -0.  0.  0. -0. -0.  0.  0.  0.  0.  0.  0. -0.  0.  0. -0.\n",
            "  0. -0. -0. -0. -0.  0.  0.  0. -0. -0.  0.]\n",
            "colwise variance [1. 1. 1. 1. 1. 1. 1. 1. 1. 1. 1. 1. 1. 1. 1. 1. 1. 1. 1. 1. 1. 1. 1. 1.\n",
            " 1. 1. 1. 1. 0. 0. 0. 0. 1. 1. 1. 1. 1. 1. 1. 1. 1. 1. 1. 0. 1. 1. 1.]\n"
          ],
          "name": "stdout"
        }
      ]
    },
    {
      "cell_type": "code",
      "metadata": {
        "id": "q-Zuw2tXFcln",
        "colab_type": "code",
        "colab": {}
      },
      "source": [
        "X_valid_scaled = scale(X_valid, scaler)\n",
        "X_valid_y0_scaled = scale(X_valid_y0, scaler)\n",
        "X_test_scaled = scale(X_test, scaler)"
      ],
      "execution_count": null,
      "outputs": []
    },
    {
      "cell_type": "code",
      "metadata": {
        "id": "UBVuWiNGFgiD",
        "colab_type": "code",
        "colab": {
          "base_uri": "https://localhost:8080/",
          "height": 33
        },
        "outputId": "91003abd-1997-40be-886c-7eeaf4a01634"
      },
      "source": [
        "timesteps =  X_train_y0_scaled.shape[1] \n",
        "n_features =  X_train_y0_scaled.shape[2] \n",
        "print(timesteps, n_features)\n",
        "epochs = 200\n",
        "batch = 64\n",
        "lr = 0.0001"
      ],
      "execution_count": null,
      "outputs": [
        {
          "output_type": "stream",
          "text": [
            "12 47\n"
          ],
          "name": "stdout"
        }
      ]
    },
    {
      "cell_type": "code",
      "metadata": {
        "id": "yxxIAZd-FlYI",
        "colab_type": "code",
        "colab": {
          "base_uri": "https://localhost:8080/",
          "height": 351
        },
        "outputId": "3f678eb5-2809-4d5c-a519-928bf3a332f1"
      },
      "source": [
        "lstm_autoencoder = Sequential()\n",
        "# Encoder\n",
        "lstm_autoencoder.add(LSTM(128, activation='relu', input_shape=(timesteps, n_features), return_sequences=True))\n",
        "lstm_autoencoder.add(LSTM(64, activation='relu', return_sequences=False))\n",
        "lstm_autoencoder.add(RepeatVector(timesteps))\n",
        "# Decoder\n",
        "lstm_autoencoder.add(LSTM(64, activation='relu', return_sequences=True))\n",
        "lstm_autoencoder.add(LSTM(128, activation='relu', return_sequences=True))\n",
        "lstm_autoencoder.add(TimeDistributed(Dense(n_features)))\n",
        "\n",
        "lstm_autoencoder.summary()"
      ],
      "execution_count": null,
      "outputs": [
        {
          "output_type": "stream",
          "text": [
            "Model: \"sequential_1\"\n",
            "_________________________________________________________________\n",
            "Layer (type)                 Output Shape              Param #   \n",
            "=================================================================\n",
            "lstm_1 (LSTM)                (None, 12, 128)           90112     \n",
            "_________________________________________________________________\n",
            "lstm_2 (LSTM)                (None, 64)                49408     \n",
            "_________________________________________________________________\n",
            "repeat_vector_1 (RepeatVecto (None, 12, 64)            0         \n",
            "_________________________________________________________________\n",
            "lstm_3 (LSTM)                (None, 12, 64)            33024     \n",
            "_________________________________________________________________\n",
            "lstm_4 (LSTM)                (None, 12, 128)           98816     \n",
            "_________________________________________________________________\n",
            "time_distributed_1 (TimeDist (None, 12, 47)            6063      \n",
            "=================================================================\n",
            "Total params: 277,423\n",
            "Trainable params: 277,423\n",
            "Non-trainable params: 0\n",
            "_________________________________________________________________\n"
          ],
          "name": "stdout"
        }
      ]
    },
    {
      "cell_type": "code",
      "metadata": {
        "id": "RYKZzF-gFoIE",
        "colab_type": "code",
        "colab": {
          "base_uri": "https://localhost:8080/",
          "height": 1000
        },
        "outputId": "ef03e303-0fbc-46e9-cdf7-a48692fb8520"
      },
      "source": [
        "adam = optimizers.Adam(lr)\n",
        "lstm_autoencoder.compile(loss='mse', optimizer=adam)\n",
        "\n",
        "cp = ModelCheckpoint(filepath=\"lstm_autoencoder_classifier.h5\",\n",
        "                               save_best_only=True,\n",
        "                               verbose=0)\n",
        "\n",
        "tb = TensorBoard(log_dir='./logs',\n",
        "                histogram_freq=0,\n",
        "                write_graph=True,\n",
        "                write_images=True)\n",
        "\n",
        "lstm_autoencoder_history = lstm_autoencoder.fit(X_train_y0_scaled, X_train_y0_scaled, \n",
        "                                                epochs=epochs, \n",
        "                                                batch_size=batch, \n",
        "                                                validation_data=(X_valid_y0_scaled, X_valid_y0_scaled),\n",
        "                                                verbose=2).history"
      ],
      "execution_count": null,
      "outputs": [
        {
          "output_type": "stream",
          "text": [
            "Train on 7662 samples, validate on 1908 samples\n",
            "Epoch 1/200\n",
            " - 14s - loss: 0.8004 - val_loss: 0.6835\n",
            "Epoch 2/200\n",
            " - 11s - loss: 0.6205 - val_loss: 0.5800\n",
            "Epoch 3/200\n",
            " - 11s - loss: 0.5373 - val_loss: 0.5177\n",
            "Epoch 4/200\n",
            " - 11s - loss: 0.4911 - val_loss: 0.4843\n",
            "Epoch 5/200\n",
            " - 11s - loss: 0.4616 - val_loss: 0.4563\n",
            "Epoch 6/200\n",
            " - 11s - loss: 0.4447 - val_loss: 0.4529\n",
            "Epoch 7/200\n",
            " - 11s - loss: 0.4279 - val_loss: 0.4274\n",
            "Epoch 8/200\n",
            " - 11s - loss: 0.4117 - val_loss: 0.4138\n",
            "Epoch 9/200\n",
            " - 11s - loss: 0.3982 - val_loss: 0.4028\n",
            "Epoch 10/200\n",
            " - 11s - loss: 0.3866 - val_loss: 0.3909\n",
            "Epoch 11/200\n",
            " - 11s - loss: 0.3783 - val_loss: 0.3829\n",
            "Epoch 12/200\n",
            " - 11s - loss: 0.3684 - val_loss: 0.3748\n",
            "Epoch 13/200\n",
            " - 11s - loss: 0.3599 - val_loss: 0.3694\n",
            "Epoch 14/200\n",
            " - 11s - loss: 0.3535 - val_loss: 0.3619\n",
            "Epoch 15/200\n",
            " - 11s - loss: 0.3469 - val_loss: 0.3558\n",
            "Epoch 16/200\n",
            " - 11s - loss: 0.3417 - val_loss: 0.3556\n",
            "Epoch 17/200\n",
            " - 11s - loss: 0.3385 - val_loss: 0.3468\n",
            "Epoch 18/200\n",
            " - 11s - loss: 0.3306 - val_loss: 0.3440\n",
            "Epoch 19/200\n",
            " - 11s - loss: 0.3268 - val_loss: 0.3389\n",
            "Epoch 20/200\n",
            " - 11s - loss: 0.3228 - val_loss: 0.3375\n",
            "Epoch 21/200\n",
            " - 11s - loss: 0.3177 - val_loss: 0.3315\n",
            "Epoch 22/200\n",
            " - 11s - loss: 0.3152 - val_loss: 0.3270\n",
            "Epoch 23/200\n",
            " - 11s - loss: 0.3110 - val_loss: 0.3256\n",
            "Epoch 24/200\n",
            " - 11s - loss: 0.3090 - val_loss: 0.3213\n",
            "Epoch 25/200\n",
            " - 11s - loss: 0.3035 - val_loss: 0.3189\n",
            "Epoch 26/200\n",
            " - 11s - loss: 0.3006 - val_loss: 0.3163\n",
            "Epoch 27/200\n",
            " - 11s - loss: 0.2993 - val_loss: 0.3146\n",
            "Epoch 28/200\n",
            " - 11s - loss: 0.2979 - val_loss: 0.3162\n",
            "Epoch 29/200\n",
            " - 11s - loss: 0.2971 - val_loss: 0.3095\n",
            "Epoch 30/200\n",
            " - 11s - loss: 0.2922 - val_loss: 0.3099\n",
            "Epoch 31/200\n",
            " - 11s - loss: 0.2896 - val_loss: 0.3034\n",
            "Epoch 32/200\n",
            " - 11s - loss: 0.2848 - val_loss: 0.3011\n",
            "Epoch 33/200\n",
            " - 11s - loss: 0.2863 - val_loss: 0.2990\n",
            "Epoch 34/200\n",
            " - 11s - loss: 0.2836 - val_loss: 0.2970\n",
            "Epoch 35/200\n",
            " - 11s - loss: 0.2818 - val_loss: 0.3008\n",
            "Epoch 36/200\n",
            " - 11s - loss: 0.2790 - val_loss: 0.2931\n",
            "Epoch 37/200\n",
            " - 10s - loss: 0.2755 - val_loss: 0.2932\n",
            "Epoch 38/200\n",
            " - 11s - loss: 0.2741 - val_loss: 0.2932\n",
            "Epoch 39/200\n",
            " - 11s - loss: 0.2750 - val_loss: 0.2927\n",
            "Epoch 40/200\n",
            " - 11s - loss: 0.2740 - val_loss: 0.2887\n",
            "Epoch 41/200\n",
            " - 11s - loss: 0.2691 - val_loss: 0.2870\n",
            "Epoch 42/200\n",
            " - 11s - loss: 0.2656 - val_loss: 0.2856\n",
            "Epoch 43/200\n",
            " - 11s - loss: 0.2653 - val_loss: 0.2846\n",
            "Epoch 44/200\n",
            " - 11s - loss: 0.2663 - val_loss: 0.2824\n",
            "Epoch 45/200\n",
            " - 11s - loss: 0.2614 - val_loss: 0.2811\n",
            "Epoch 46/200\n",
            " - 11s - loss: 0.2608 - val_loss: 0.2777\n",
            "Epoch 47/200\n",
            " - 10s - loss: 0.2634 - val_loss: 0.2997\n",
            "Epoch 48/200\n",
            " - 11s - loss: 0.2642 - val_loss: 0.2781\n",
            "Epoch 49/200\n",
            " - 11s - loss: 0.2587 - val_loss: 0.2775\n",
            "Epoch 50/200\n",
            " - 10s - loss: 0.2539 - val_loss: 0.2729\n",
            "Epoch 51/200\n",
            " - 11s - loss: 0.2569 - val_loss: 0.2900\n",
            "Epoch 52/200\n",
            " - 11s - loss: 0.2557 - val_loss: 0.2727\n",
            "Epoch 53/200\n",
            " - 11s - loss: 0.2518 - val_loss: 0.2718\n",
            "Epoch 54/200\n",
            " - 11s - loss: 0.2490 - val_loss: 0.2778\n",
            "Epoch 55/200\n",
            " - 11s - loss: 0.2555 - val_loss: 0.2778\n",
            "Epoch 56/200\n",
            " - 11s - loss: 0.2488 - val_loss: 0.2693\n",
            "Epoch 57/200\n",
            " - 11s - loss: 0.2461 - val_loss: 0.2662\n",
            "Epoch 58/200\n",
            " - 10s - loss: 0.2437 - val_loss: 0.2639\n",
            "Epoch 59/200\n",
            " - 11s - loss: 0.2424 - val_loss: 0.2676\n",
            "Epoch 60/200\n",
            " - 11s - loss: 0.2502 - val_loss: 0.2680\n",
            "Epoch 61/200\n",
            " - 10s - loss: 0.2414 - val_loss: 0.2631\n",
            "Epoch 62/200\n",
            " - 11s - loss: 0.2402 - val_loss: 0.2655\n",
            "Epoch 63/200\n",
            " - 11s - loss: 0.2398 - val_loss: 0.2637\n",
            "Epoch 64/200\n",
            " - 11s - loss: 0.2366 - val_loss: 0.2589\n",
            "Epoch 65/200\n",
            " - 11s - loss: 0.2352 - val_loss: 0.2595\n",
            "Epoch 66/200\n",
            " - 11s - loss: 0.2345 - val_loss: 0.2630\n",
            "Epoch 67/200\n",
            " - 10s - loss: 0.2364 - val_loss: 0.2583\n",
            "Epoch 68/200\n",
            " - 11s - loss: 0.2346 - val_loss: 0.2607\n",
            "Epoch 69/200\n",
            " - 10s - loss: 0.2321 - val_loss: 0.2641\n",
            "Epoch 70/200\n",
            " - 11s - loss: 0.2317 - val_loss: 0.2519\n",
            "Epoch 71/200\n",
            " - 11s - loss: 0.2298 - val_loss: 0.2570\n",
            "Epoch 72/200\n",
            " - 11s - loss: 0.2293 - val_loss: 0.2503\n",
            "Epoch 73/200\n",
            " - 11s - loss: 0.2324 - val_loss: 0.2530\n",
            "Epoch 74/200\n",
            " - 11s - loss: 0.2302 - val_loss: 0.2543\n",
            "Epoch 75/200\n",
            " - 11s - loss: 0.2257 - val_loss: 0.2516\n",
            "Epoch 76/200\n",
            " - 11s - loss: 0.2264 - val_loss: 0.2499\n",
            "Epoch 77/200\n",
            " - 11s - loss: 0.2234 - val_loss: 0.2472\n",
            "Epoch 78/200\n",
            " - 11s - loss: 0.2224 - val_loss: 0.2462\n",
            "Epoch 79/200\n",
            " - 10s - loss: 0.2237 - val_loss: 0.2460\n",
            "Epoch 80/200\n",
            " - 10s - loss: 0.2189 - val_loss: 0.2425\n",
            "Epoch 81/200\n",
            " - 10s - loss: 0.2221 - val_loss: 0.2531\n",
            "Epoch 82/200\n",
            " - 11s - loss: 0.2226 - val_loss: 0.2497\n",
            "Epoch 83/200\n",
            " - 11s - loss: 0.2238 - val_loss: 0.2476\n",
            "Epoch 84/200\n",
            " - 11s - loss: 0.2268 - val_loss: 0.2472\n",
            "Epoch 85/200\n",
            " - 11s - loss: 0.2191 - val_loss: 0.2399\n",
            "Epoch 86/200\n",
            " - 10s - loss: 0.2186 - val_loss: 0.2434\n",
            "Epoch 87/200\n",
            " - 11s - loss: 0.2140 - val_loss: 0.2449\n",
            "Epoch 88/200\n",
            " - 11s - loss: 0.2135 - val_loss: 0.2367\n",
            "Epoch 89/200\n",
            " - 11s - loss: 0.2127 - val_loss: 0.2379\n",
            "Epoch 90/200\n",
            " - 11s - loss: 0.2123 - val_loss: 0.2406\n",
            "Epoch 91/200\n",
            " - 11s - loss: 0.2132 - val_loss: 0.2365\n",
            "Epoch 92/200\n",
            " - 11s - loss: 0.2081 - val_loss: 0.2404\n",
            "Epoch 93/200\n",
            " - 11s - loss: 0.2177 - val_loss: 0.2400\n",
            "Epoch 94/200\n",
            " - 11s - loss: 0.2113 - val_loss: 0.2359\n",
            "Epoch 95/200\n",
            " - 11s - loss: 0.2147 - val_loss: 0.2359\n",
            "Epoch 96/200\n",
            " - 11s - loss: 0.2092 - val_loss: 0.2337\n",
            "Epoch 97/200\n",
            " - 10s - loss: 0.2096 - val_loss: 0.2312\n",
            "Epoch 98/200\n",
            " - 11s - loss: 0.2048 - val_loss: 0.2318\n",
            "Epoch 99/200\n",
            " - 11s - loss: 0.2077 - val_loss: 0.2350\n",
            "Epoch 100/200\n",
            " - 11s - loss: 0.2046 - val_loss: 0.2316\n",
            "Epoch 101/200\n",
            " - 11s - loss: 0.2039 - val_loss: 0.2309\n",
            "Epoch 102/200\n",
            " - 11s - loss: 0.2042 - val_loss: 0.2336\n",
            "Epoch 103/200\n",
            " - 11s - loss: 0.2037 - val_loss: 0.2274\n",
            "Epoch 104/200\n",
            " - 10s - loss: 0.2000 - val_loss: 0.2306\n",
            "Epoch 105/200\n",
            " - 11s - loss: 0.2002 - val_loss: 0.2269\n",
            "Epoch 106/200\n",
            " - 10s - loss: 0.1983 - val_loss: 0.2284\n",
            "Epoch 107/200\n",
            " - 11s - loss: 0.2019 - val_loss: 0.2245\n",
            "Epoch 108/200\n",
            " - 11s - loss: 0.1993 - val_loss: 0.2257\n",
            "Epoch 109/200\n",
            " - 10s - loss: 0.1974 - val_loss: 0.2285\n",
            "Epoch 110/200\n",
            " - 11s - loss: 0.1940 - val_loss: 0.2227\n",
            "Epoch 111/200\n",
            " - 10s - loss: 0.1957 - val_loss: 0.2222\n",
            "Epoch 112/200\n",
            " - 10s - loss: 0.1969 - val_loss: 0.2219\n",
            "Epoch 113/200\n",
            " - 11s - loss: 0.2188 - val_loss: 0.2421\n",
            "Epoch 114/200\n",
            " - 11s - loss: 0.2241 - val_loss: 0.2233\n",
            "Epoch 115/200\n",
            " - 10s - loss: 0.1998 - val_loss: 0.2246\n",
            "Epoch 116/200\n",
            " - 10s - loss: 0.1979 - val_loss: 0.2187\n",
            "Epoch 117/200\n",
            " - 10s - loss: 0.1897 - val_loss: 0.2162\n",
            "Epoch 118/200\n",
            " - 10s - loss: 0.1878 - val_loss: 0.2161\n",
            "Epoch 119/200\n",
            " - 10s - loss: 0.1866 - val_loss: 0.2161\n",
            "Epoch 120/200\n",
            " - 11s - loss: 0.1877 - val_loss: 0.2154\n",
            "Epoch 121/200\n",
            " - 10s - loss: 0.1886 - val_loss: 0.2212\n",
            "Epoch 122/200\n",
            " - 10s - loss: 0.1955 - val_loss: 0.2185\n",
            "Epoch 123/200\n",
            " - 10s - loss: 0.1892 - val_loss: 0.2152\n",
            "Epoch 124/200\n",
            " - 10s - loss: 0.1900 - val_loss: 0.2182\n",
            "Epoch 125/200\n",
            " - 11s - loss: 0.1878 - val_loss: 0.2154\n",
            "Epoch 126/200\n",
            " - 11s - loss: 0.1859 - val_loss: 0.2134\n",
            "Epoch 127/200\n",
            " - 11s - loss: 0.1848 - val_loss: 0.2187\n",
            "Epoch 128/200\n",
            " - 10s - loss: 0.1866 - val_loss: 0.2214\n",
            "Epoch 129/200\n",
            " - 11s - loss: 0.1890 - val_loss: 0.2126\n",
            "Epoch 130/200\n",
            " - 11s - loss: 0.1845 - val_loss: 0.2274\n",
            "Epoch 131/200\n",
            " - 11s - loss: 0.1879 - val_loss: 0.2174\n",
            "Epoch 132/200\n",
            " - 10s - loss: 0.1840 - val_loss: 0.2131\n",
            "Epoch 133/200\n",
            " - 10s - loss: 0.1813 - val_loss: 0.2110\n",
            "Epoch 134/200\n",
            " - 11s - loss: 0.1887 - val_loss: 0.2160\n",
            "Epoch 135/200\n",
            " - 11s - loss: 0.1890 - val_loss: 0.2184\n",
            "Epoch 136/200\n",
            " - 11s - loss: 0.1865 - val_loss: 0.2108\n",
            "Epoch 137/200\n",
            " - 10s - loss: 0.1890 - val_loss: 0.2126\n",
            "Epoch 138/200\n",
            " - 10s - loss: 0.1807 - val_loss: 0.2107\n",
            "Epoch 139/200\n",
            " - 10s - loss: 0.1801 - val_loss: 0.2099\n",
            "Epoch 140/200\n",
            " - 11s - loss: 0.1819 - val_loss: 0.2111\n",
            "Epoch 141/200\n",
            " - 11s - loss: 0.1772 - val_loss: 0.2052\n",
            "Epoch 142/200\n",
            " - 10s - loss: 0.1766 - val_loss: 0.2054\n",
            "Epoch 143/200\n",
            " - 10s - loss: 0.1791 - val_loss: 0.2160\n",
            "Epoch 144/200\n",
            " - 10s - loss: 0.1906 - val_loss: 0.2295\n",
            "Epoch 145/200\n",
            " - 10s - loss: 0.1855 - val_loss: 0.2131\n",
            "Epoch 146/200\n",
            " - 11s - loss: 0.1857 - val_loss: 0.2255\n",
            "Epoch 147/200\n",
            " - 10s - loss: 0.1840 - val_loss: 0.2043\n",
            "Epoch 148/200\n",
            " - 10s - loss: 0.1778 - val_loss: 0.2052\n",
            "Epoch 149/200\n",
            " - 11s - loss: 0.1741 - val_loss: 0.2026\n",
            "Epoch 150/200\n",
            " - 10s - loss: 0.1717 - val_loss: 0.2039\n",
            "Epoch 151/200\n",
            " - 10s - loss: 0.1712 - val_loss: 0.2007\n",
            "Epoch 152/200\n",
            " - 10s - loss: 0.1706 - val_loss: 0.2023\n",
            "Epoch 153/200\n",
            " - 11s - loss: 0.1705 - val_loss: 0.2019\n",
            "Epoch 154/200\n",
            " - 11s - loss: 0.1709 - val_loss: 0.2046\n",
            "Epoch 155/200\n",
            " - 10s - loss: 0.1788 - val_loss: 0.2110\n",
            "Epoch 156/200\n",
            " - 11s - loss: 0.1828 - val_loss: 0.2071\n",
            "Epoch 157/200\n",
            " - 11s - loss: 0.1748 - val_loss: 0.2039\n",
            "Epoch 158/200\n",
            " - 11s - loss: 0.1764 - val_loss: 0.2057\n",
            "Epoch 159/200\n",
            " - 10s - loss: 0.1815 - val_loss: 0.2031\n",
            "Epoch 160/200\n",
            " - 11s - loss: 0.1854 - val_loss: 0.2195\n",
            "Epoch 161/200\n",
            " - 11s - loss: 0.1776 - val_loss: 0.2010\n",
            "Epoch 162/200\n",
            " - 10s - loss: 0.1692 - val_loss: 0.2093\n",
            "Epoch 163/200\n",
            " - 10s - loss: 0.1688 - val_loss: 0.1988\n",
            "Epoch 164/200\n",
            " - 11s - loss: 0.1661 - val_loss: 0.1993\n",
            "Epoch 165/200\n",
            " - 10s - loss: 0.1685 - val_loss: 0.1996\n",
            "Epoch 166/200\n",
            " - 10s - loss: 0.1690 - val_loss: 0.2038\n",
            "Epoch 167/200\n",
            " - 11s - loss: 0.1683 - val_loss: 0.1988\n",
            "Epoch 168/200\n",
            " - 11s - loss: 0.1683 - val_loss: 0.2044\n",
            "Epoch 169/200\n",
            " - 11s - loss: 0.1887 - val_loss: 0.2551\n",
            "Epoch 170/200\n",
            " - 11s - loss: 0.1962 - val_loss: 0.2163\n",
            "Epoch 171/200\n",
            " - 10s - loss: 0.1739 - val_loss: 0.2003\n",
            "Epoch 172/200\n",
            " - 11s - loss: 0.1652 - val_loss: 0.1950\n",
            "Epoch 173/200\n",
            " - 10s - loss: 0.1643 - val_loss: 0.1959\n",
            "Epoch 174/200\n",
            " - 11s - loss: 0.1630 - val_loss: 0.1961\n",
            "Epoch 175/200\n",
            " - 10s - loss: 0.1628 - val_loss: 0.1949\n",
            "Epoch 176/200\n",
            " - 11s - loss: 0.1613 - val_loss: 0.1965\n",
            "Epoch 177/200\n",
            " - 10s - loss: 0.1620 - val_loss: 0.1987\n",
            "Epoch 178/200\n",
            " - 10s - loss: 0.1628 - val_loss: 0.1949\n",
            "Epoch 179/200\n",
            " - 10s - loss: 0.1798 - val_loss: 0.2203\n",
            "Epoch 180/200\n",
            " - 10s - loss: 0.1774 - val_loss: 0.2012\n",
            "Epoch 181/200\n",
            " - 10s - loss: 0.1651 - val_loss: 0.1959\n",
            "Epoch 182/200\n",
            " - 10s - loss: 0.1617 - val_loss: 0.1944\n",
            "Epoch 183/200\n",
            " - 10s - loss: 0.1601 - val_loss: 0.1929\n",
            "Epoch 184/200\n",
            " - 11s - loss: 0.1596 - val_loss: 0.1943\n",
            "Epoch 185/200\n",
            " - 11s - loss: 0.1594 - val_loss: 0.1928\n",
            "Epoch 186/200\n",
            " - 10s - loss: 0.1590 - val_loss: 0.1923\n",
            "Epoch 187/200\n",
            " - 10s - loss: 0.1592 - val_loss: 0.1935\n",
            "Epoch 188/200\n",
            " - 11s - loss: 0.1626 - val_loss: 0.1963\n",
            "Epoch 189/200\n",
            " - 11s - loss: 0.1615 - val_loss: 0.1942\n",
            "Epoch 190/200\n",
            " - 10s - loss: 0.1611 - val_loss: 0.1979\n",
            "Epoch 191/200\n",
            " - 10s - loss: 0.1630 - val_loss: 0.2035\n",
            "Epoch 192/200\n",
            " - 10s - loss: 0.1659 - val_loss: 0.2013\n",
            "Epoch 193/200\n",
            " - 10s - loss: 0.1838 - val_loss: 0.2285\n",
            "Epoch 194/200\n",
            " - 11s - loss: 0.1814 - val_loss: 0.2076\n",
            "Epoch 195/200\n",
            " - 10s - loss: 0.1666 - val_loss: 0.1913\n",
            "Epoch 196/200\n",
            " - 11s - loss: 0.1592 - val_loss: 0.1894\n",
            "Epoch 197/200\n",
            " - 10s - loss: 0.1558 - val_loss: 0.1913\n",
            "Epoch 198/200\n",
            " - 10s - loss: 0.1534 - val_loss: 0.1872\n",
            "Epoch 199/200\n",
            " - 10s - loss: 0.1529 - val_loss: 0.1899\n",
            "Epoch 200/200\n",
            " - 10s - loss: 0.1531 - val_loss: 0.1853\n"
          ],
          "name": "stdout"
        }
      ]
    },
    {
      "cell_type": "code",
      "metadata": {
        "id": "yLKogBUuWFrL",
        "colab_type": "code",
        "colab": {}
      },
      "source": [
        "lstm_autoencoder.save('/content/drive/My Drive/paper_milling_lstm_AE')\n",
        "lstm_autoencoder.save('/content/drive/My Drive/paper_milling_lstm_AE.h5')\n",
        "# hist = pd.DataFrame(lstm_autoencoder_history.history)\n",
        "# hist.to_csv('/content/drive/My Drive/milling_lstm_AE.csv', header=False, index=False)"
      ],
      "execution_count": null,
      "outputs": []
    },
    {
      "cell_type": "code",
      "metadata": {
        "id": "yx9Me-1hFs5N",
        "colab_type": "code",
        "colab": {
          "base_uri": "https://localhost:8080/",
          "height": 295
        },
        "outputId": "e9be1ee4-4c6d-471b-9382-807703103b33"
      },
      "source": [
        "from google.colab import files\n",
        "train = plt.figure()\n",
        "plt.plot(lstm_autoencoder_history['loss'], linewidth=2, label='Train')\n",
        "plt.plot(lstm_autoencoder_history['val_loss'], linewidth=2, label='Valid')\n",
        "plt.legend(loc='upper right')\n",
        "plt.title('Model loss')\n",
        "plt.ylabel('Loss')\n",
        "plt.xlabel('Epoch')\n",
        "train.show()\n",
        "train.savefig('train.png')\n",
        "files.download('train.png')"
      ],
      "execution_count": null,
      "outputs": [
        {
          "output_type": "display_data",
          "data": {
            "application/javascript": [
              "\n",
              "    async function download(id, filename, size) {\n",
              "      if (!google.colab.kernel.accessAllowed) {\n",
              "        return;\n",
              "      }\n",
              "      const div = document.createElement('div');\n",
              "      const label = document.createElement('label');\n",
              "      label.textContent = `Downloading \"${filename}\": `;\n",
              "      div.appendChild(label);\n",
              "      const progress = document.createElement('progress');\n",
              "      progress.max = size;\n",
              "      div.appendChild(progress);\n",
              "      document.body.appendChild(div);\n",
              "\n",
              "      const buffers = [];\n",
              "      let downloaded = 0;\n",
              "\n",
              "      const channel = await google.colab.kernel.comms.open(id);\n",
              "      // Send a message to notify the kernel that we're ready.\n",
              "      channel.send({})\n",
              "\n",
              "      for await (const message of channel.messages) {\n",
              "        // Send a message to notify the kernel that we're ready.\n",
              "        channel.send({})\n",
              "        if (message.buffers) {\n",
              "          for (const buffer of message.buffers) {\n",
              "            buffers.push(buffer);\n",
              "            downloaded += buffer.byteLength;\n",
              "            progress.value = downloaded;\n",
              "          }\n",
              "        }\n",
              "      }\n",
              "      const blob = new Blob(buffers, {type: 'application/binary'});\n",
              "      const a = document.createElement('a');\n",
              "      a.href = window.URL.createObjectURL(blob);\n",
              "      a.download = filename;\n",
              "      div.appendChild(a);\n",
              "      a.click();\n",
              "      div.remove();\n",
              "    }\n",
              "  "
            ],
            "text/plain": [
              "<IPython.core.display.Javascript object>"
            ]
          },
          "metadata": {
            "tags": []
          }
        },
        {
          "output_type": "display_data",
          "data": {
            "application/javascript": [
              "download(\"download_62ab6e17-3309-42f5-9855-7706fd4200d5\", \"train.png\", 19039)"
            ],
            "text/plain": [
              "<IPython.core.display.Javascript object>"
            ]
          },
          "metadata": {
            "tags": []
          }
        },
        {
          "output_type": "display_data",
          "data": {
            "image/png": "[encoded data removed]",
            "text/plain": [
              "<Figure size 432x288 with 1 Axes>"
            ]
          },
          "metadata": {
            "tags": [],
            "needs_background": "light"
          }
        }
      ]
    },
    {
      "cell_type": "code",
      "metadata": {
        "id": "0z7lRQonCPXo",
        "colab_type": "code",
        "colab": {
          "base_uri": "https://localhost:8080/",
          "height": 296
        },
        "outputId": "2d9f6757-1372-42d7-ea0b-ac712ec9920e"
      },
      "source": [
        "valid_x_predictions = lstm_autoencoder.predict(X_valid_scaled)\n",
        "mse = np.mean(np.power(flatten(X_valid_scaled) - flatten(valid_x_predictions), 2), axis=1)\n",
        "hist = plt.figure()\n",
        "plt.hist(mse, bins=50)\n",
        "plt.xlabel(\"Train MAE loss\")\n",
        "plt.ylabel(\"No of samples\")\n",
        "hist.show()\n",
        "hist.savefig('hist.png')\n",
        "files.download('hist.png')\n",
        "# Get reconstruction loss threshold.\n",
        "threshold = np.max(mse)\n",
        "print(\"Reconstruction error threshold: \", threshold)"
      ],
      "execution_count": null,
      "outputs": [
        {
          "output_type": "display_data",
          "data": {
            "application/javascript": [
              "\n",
              "    async function download(id, filename, size) {\n",
              "      if (!google.colab.kernel.accessAllowed) {\n",
              "        return;\n",
              "      }\n",
              "      const div = document.createElement('div');\n",
              "      const label = document.createElement('label');\n",
              "      label.textContent = `Downloading \"${filename}\": `;\n",
              "      div.appendChild(label);\n",
              "      const progress = document.createElement('progress');\n",
              "      progress.max = size;\n",
              "      div.appendChild(progress);\n",
              "      document.body.appendChild(div);\n",
              "\n",
              "      const buffers = [];\n",
              "      let downloaded = 0;\n",
              "\n",
              "      const channel = await google.colab.kernel.comms.open(id);\n",
              "      // Send a message to notify the kernel that we're ready.\n",
              "      channel.send({})\n",
              "\n",
              "      for await (const message of channel.messages) {\n",
              "        // Send a message to notify the kernel that we're ready.\n",
              "        channel.send({})\n",
              "        if (message.buffers) {\n",
              "          for (const buffer of message.buffers) {\n",
              "            buffers.push(buffer);\n",
              "            downloaded += buffer.byteLength;\n",
              "            progress.value = downloaded;\n",
              "          }\n",
              "        }\n",
              "      }\n",
              "      const blob = new Blob(buffers, {type: 'application/binary'});\n",
              "      const a = document.createElement('a');\n",
              "      a.href = window.URL.createObjectURL(blob);\n",
              "      a.download = filename;\n",
              "      div.appendChild(a);\n",
              "      a.click();\n",
              "      div.remove();\n",
              "    }\n",
              "  "
            ],
            "text/plain": [
              "<IPython.core.display.Javascript object>"
            ]
          },
          "metadata": {
            "tags": []
          }
        },
        {
          "output_type": "display_data",
          "data": {
            "application/javascript": [
              "download(\"download_1cf11f5b-88a4-419f-aca4-3d7cd28bfd00\", \"hist.png\", 9761)"
            ],
            "text/plain": [
              "<IPython.core.display.Javascript object>"
            ]
          },
          "metadata": {
            "tags": []
          }
        },
        {
          "output_type": "stream",
          "text": [
            "Reconstruction error threshold:  15.728347049463126\n"
          ],
          "name": "stdout"
        },
        {
          "output_type": "display_data",
          "data": {
            "image/png": "[encoded data removed]",
            "text/plain": [
              "<Figure size 432x288 with 1 Axes>"
            ]
          },
          "metadata": {
            "tags": [],
            "needs_background": "light"
          }
        }
      ]
    },
    {
      "cell_type": "code",
      "metadata": {
        "id": "pSFg2PcCPqDR",
        "colab_type": "code",
        "colab": {
          "base_uri": "https://localhost:8080/",
          "height": 295
        },
        "outputId": "17c607e4-fdca-447e-ff76-c1be3fee9d49"
      },
      "source": [
        "# valid_x_predictions = lstm_autoencoder.predict(X_valid_scaled)\n",
        "# mse = np.mean(np.power(flatten(X_valid_scaled) - flatten(valid_x_predictions), 2), axis=1)\n",
        "\n",
        "error_df = pd.DataFrame({'Reconstruction_error': mse,\n",
        "                        'True_class': y_valid.tolist()})\n",
        "\n",
        "precision_rt, recall_rt, threshold_rt = precision_recall_curve(error_df.True_class, error_df.Reconstruction_error)\n",
        "p = plt.figure()\n",
        "plt.plot(threshold_rt, precision_rt[1:], label=\"Precision\",linewidth=5)\n",
        "plt.plot(threshold_rt, recall_rt[1:], label=\"Recall\",linewidth=5)\n",
        "plt.title('Precision and recall for different threshold values')\n",
        "plt.xlabel('Threshold')\n",
        "plt.ylabel('Precision/Recall')\n",
        "plt.legend()\n",
        "p.show()\n",
        "p.savefig('P&T.png')\n",
        "files.download('P&T.png')"
      ],
      "execution_count": null,
      "outputs": [
        {
          "output_type": "display_data",
          "data": {
            "application/javascript": [
              "\n",
              "    async function download(id, filename, size) {\n",
              "      if (!google.colab.kernel.accessAllowed) {\n",
              "        return;\n",
              "      }\n",
              "      const div = document.createElement('div');\n",
              "      const label = document.createElement('label');\n",
              "      label.textContent = `Downloading \"${filename}\": `;\n",
              "      div.appendChild(label);\n",
              "      const progress = document.createElement('progress');\n",
              "      progress.max = size;\n",
              "      div.appendChild(progress);\n",
              "      document.body.appendChild(div);\n",
              "\n",
              "      const buffers = [];\n",
              "      let downloaded = 0;\n",
              "\n",
              "      const channel = await google.colab.kernel.comms.open(id);\n",
              "      // Send a message to notify the kernel that we're ready.\n",
              "      channel.send({})\n",
              "\n",
              "      for await (const message of channel.messages) {\n",
              "        // Send a message to notify the kernel that we're ready.\n",
              "        channel.send({})\n",
              "        if (message.buffers) {\n",
              "          for (const buffer of message.buffers) {\n",
              "            buffers.push(buffer);\n",
              "            downloaded += buffer.byteLength;\n",
              "            progress.value = downloaded;\n",
              "          }\n",
              "        }\n",
              "      }\n",
              "      const blob = new Blob(buffers, {type: 'application/binary'});\n",
              "      const a = document.createElement('a');\n",
              "      a.href = window.URL.createObjectURL(blob);\n",
              "      a.download = filename;\n",
              "      div.appendChild(a);\n",
              "      a.click();\n",
              "      div.remove();\n",
              "    }\n",
              "  "
            ],
            "text/plain": [
              "<IPython.core.display.Javascript object>"
            ]
          },
          "metadata": {
            "tags": []
          }
        },
        {
          "output_type": "display_data",
          "data": {
            "application/javascript": [
              "download(\"download_3e3f7c0f-3af8-4b60-99f7-0014d0f657c2\", \"P&T.png\", 19777)"
            ],
            "text/plain": [
              "<IPython.core.display.Javascript object>"
            ]
          },
          "metadata": {
            "tags": []
          }
        },
        {
          "output_type": "display_data",
          "data": {
            "image/png": "[encoded data removed]",
            "text/plain": [
              "<Figure size 432x288 with 1 Axes>"
            ]
          },
          "metadata": {
            "tags": [],
            "needs_background": "light"
          }
        }
      ]
    },
    {
      "cell_type": "code",
      "metadata": {
        "id": "doLUlO_uepNh",
        "colab_type": "code",
        "colab": {
          "base_uri": "https://localhost:8080/",
          "height": 312
        },
        "outputId": "3a0d5a2d-b6ee-4e0c-f4d6-ee7a487c80c6"
      },
      "source": [
        "test_x_predictions = lstm_autoencoder.predict(X_test_scaled)\n",
        "mse = np.mean(np.power(flatten(X_test_scaled) - flatten(test_x_predictions), 2), axis=1)\n",
        "\n",
        "error_df = pd.DataFrame({'Reconstruction_error': mse,\n",
        "                        'True_class': y_test.tolist()})\n",
        "\n",
        "threshold_fixed = 1.6\n",
        "groups = error_df.groupby('True_class')\n",
        "pp = plt.figure()\n",
        "fig, ax = plt.subplots()\n",
        "\n",
        "for name, group in groups:\n",
        "    ax.plot(group.index, group.Reconstruction_error, marker='o', ms=3.5, linestyle='',\n",
        "            label= \"Break\" if name == 1 else \"Normal\")\n",
        "ax.hlines(threshold_fixed, ax.get_xlim()[0], ax.get_xlim()[1], colors=\"r\", zorder=100, label='Threshold')\n",
        "ax.legend()\n",
        "plt.title(\"Reconstruction error for different classes\")\n",
        "plt.ylabel(\"Reconstruction error\")\n",
        "plt.xlabel(\"Data point index\")\n",
        "pp.savefig('plot.png')\n",
        "pp.show()\n",
        "files.download('plot.png')"
      ],
      "execution_count": null,
      "outputs": [
        {
          "output_type": "display_data",
          "data": {
            "application/javascript": [
              "\n",
              "    async function download(id, filename, size) {\n",
              "      if (!google.colab.kernel.accessAllowed) {\n",
              "        return;\n",
              "      }\n",
              "      const div = document.createElement('div');\n",
              "      const label = document.createElement('label');\n",
              "      label.textContent = `Downloading \"${filename}\": `;\n",
              "      div.appendChild(label);\n",
              "      const progress = document.createElement('progress');\n",
              "      progress.max = size;\n",
              "      div.appendChild(progress);\n",
              "      document.body.appendChild(div);\n",
              "\n",
              "      const buffers = [];\n",
              "      let downloaded = 0;\n",
              "\n",
              "      const channel = await google.colab.kernel.comms.open(id);\n",
              "      // Send a message to notify the kernel that we're ready.\n",
              "      channel.send({})\n",
              "\n",
              "      for await (const message of channel.messages) {\n",
              "        // Send a message to notify the kernel that we're ready.\n",
              "        channel.send({})\n",
              "        if (message.buffers) {\n",
              "          for (const buffer of message.buffers) {\n",
              "            buffers.push(buffer);\n",
              "            downloaded += buffer.byteLength;\n",
              "            progress.value = downloaded;\n",
              "          }\n",
              "        }\n",
              "      }\n",
              "      const blob = new Blob(buffers, {type: 'application/binary'});\n",
              "      const a = document.createElement('a');\n",
              "      a.href = window.URL.createObjectURL(blob);\n",
              "      a.download = filename;\n",
              "      div.appendChild(a);\n",
              "      a.click();\n",
              "      div.remove();\n",
              "    }\n",
              "  "
            ],
            "text/plain": [
              "<IPython.core.display.Javascript object>"
            ]
          },
          "metadata": {
            "tags": []
          }
        },
        {
          "output_type": "display_data",
          "data": {
            "application/javascript": [
              "download(\"download_8a9c8baa-dba0-480e-9ac3-4e891c4f9d7c\", \"plot.png\", 1273)"
            ],
            "text/plain": [
              "<IPython.core.display.Javascript object>"
            ]
          },
          "metadata": {
            "tags": []
          }
        },
        {
          "output_type": "display_data",
          "data": {
            "text/plain": [
              "<Figure size 432x288 with 0 Axes>"
            ]
          },
          "metadata": {
            "tags": []
          }
        },
        {
          "output_type": "display_data",
          "data": {
            "image/png": "[encoded data removed]",
            "text/plain": [
              "<Figure size 432x288 with 1 Axes>"
            ]
          },
          "metadata": {
            "tags": [],
            "needs_background": "light"
          }
        }
      ]
    },
    {
      "cell_type": "code",
      "metadata": {
        "id": "nBHnuG78euHF",
        "colab_type": "code",
        "colab": {
          "base_uri": "https://localhost:8080/",
          "height": 421
        },
        "outputId": "3856adb0-9dd4-4e8b-f59b-2921c20ca879"
      },
      "source": [
        "from google.colab import files\n",
        "pred_y = [1 if e > threshold_fixed else 0 for e in error_df.Reconstruction_error.values]\n",
        "conf_matrix = confusion_matrix(error_df.True_class, pred_y)\n",
        "\n",
        "cm = plt.figure(figsize=(6, 6))\n",
        "sns.heatmap(conf_matrix, xticklabels=LABELS, yticklabels=LABELS, annot=True, fmt=\"d\");\n",
        "\n",
        "plt.title(\"Confusion matrix\")\n",
        "plt.ylabel('True class')\n",
        "plt.xlabel('Predicted class')\n",
        "cm.show()\n",
        "cm.savefig('matrix.png')\n",
        "files.download('matrix.png')"
      ],
      "execution_count": null,
      "outputs": [
        {
          "output_type": "display_data",
          "data": {
            "application/javascript": [
              "\n",
              "    async function download(id, filename, size) {\n",
              "      if (!google.colab.kernel.accessAllowed) {\n",
              "        return;\n",
              "      }\n",
              "      const div = document.createElement('div');\n",
              "      const label = document.createElement('label');\n",
              "      label.textContent = `Downloading \"${filename}\": `;\n",
              "      div.appendChild(label);\n",
              "      const progress = document.createElement('progress');\n",
              "      progress.max = size;\n",
              "      div.appendChild(progress);\n",
              "      document.body.appendChild(div);\n",
              "\n",
              "      const buffers = [];\n",
              "      let downloaded = 0;\n",
              "\n",
              "      const channel = await google.colab.kernel.comms.open(id);\n",
              "      // Send a message to notify the kernel that we're ready.\n",
              "      channel.send({})\n",
              "\n",
              "      for await (const message of channel.messages) {\n",
              "        // Send a message to notify the kernel that we're ready.\n",
              "        channel.send({})\n",
              "        if (message.buffers) {\n",
              "          for (const buffer of message.buffers) {\n",
              "            buffers.push(buffer);\n",
              "            downloaded += buffer.byteLength;\n",
              "            progress.value = downloaded;\n",
              "          }\n",
              "        }\n",
              "      }\n",
              "      const blob = new Blob(buffers, {type: 'application/binary'});\n",
              "      const a = document.createElement('a');\n",
              "      a.href = window.URL.createObjectURL(blob);\n",
              "      a.download = filename;\n",
              "      div.appendChild(a);\n",
              "      a.click();\n",
              "      div.remove();\n",
              "    }\n",
              "  "
            ],
            "text/plain": [
              "<IPython.core.display.Javascript object>"
            ]
          },
          "metadata": {
            "tags": []
          }
        },
        {
          "output_type": "display_data",
          "data": {
            "application/javascript": [
              "download(\"download_1ad6db50-d083-4f9c-81ec-6d23c94e6007\", \"matrix.png\", 13244)"
            ],
            "text/plain": [
              "<IPython.core.display.Javascript object>"
            ]
          },
          "metadata": {
            "tags": []
          }
        },
        {
          "output_type": "display_data",
          "data": {
            "image/png": "[encoded data removed]",
            "text/plain": [
              "<Figure size 432x432 with 2 Axes>"
            ]
          },
          "metadata": {
            "tags": [],
            "needs_background": "light"
          }
        }
      ]
    },
    {
      "cell_type": "code",
      "metadata": {
        "id": "umBJZepPQOu4",
        "colab_type": "code",
        "colab": {
          "base_uri": "https://localhost:8080/",
          "height": 17
        },
        "outputId": "2b82fd19-768d-4ca9-9718-f1fb3ed26e85"
      },
      "source": [
        "cm.savefig('confusion_matrix.png')\n",
        "files.download('confusion_matrix.png')"
      ],
      "execution_count": null,
      "outputs": [
        {
          "output_type": "display_data",
          "data": {
            "application/javascript": [
              "\n",
              "    async function download(id, filename, size) {\n",
              "      if (!google.colab.kernel.accessAllowed) {\n",
              "        return;\n",
              "      }\n",
              "      const div = document.createElement('div');\n",
              "      const label = document.createElement('label');\n",
              "      label.textContent = `Downloading \"${filename}\": `;\n",
              "      div.appendChild(label);\n",
              "      const progress = document.createElement('progress');\n",
              "      progress.max = size;\n",
              "      div.appendChild(progress);\n",
              "      document.body.appendChild(div);\n",
              "\n",
              "      const buffers = [];\n",
              "      let downloaded = 0;\n",
              "\n",
              "      const channel = await google.colab.kernel.comms.open(id);\n",
              "      // Send a message to notify the kernel that we're ready.\n",
              "      channel.send({})\n",
              "\n",
              "      for await (const message of channel.messages) {\n",
              "        // Send a message to notify the kernel that we're ready.\n",
              "        channel.send({})\n",
              "        if (message.buffers) {\n",
              "          for (const buffer of message.buffers) {\n",
              "            buffers.push(buffer);\n",
              "            downloaded += buffer.byteLength;\n",
              "            progress.value = downloaded;\n",
              "          }\n",
              "        }\n",
              "      }\n",
              "      const blob = new Blob(buffers, {type: 'application/binary'});\n",
              "      const a = document.createElement('a');\n",
              "      a.href = window.URL.createObjectURL(blob);\n",
              "      a.download = filename;\n",
              "      div.appendChild(a);\n",
              "      a.click();\n",
              "      div.remove();\n",
              "    }\n",
              "  "
            ],
            "text/plain": [
              "<IPython.core.display.Javascript object>"
            ]
          },
          "metadata": {
            "tags": []
          }
        },
        {
          "output_type": "display_data",
          "data": {
            "application/javascript": [
              "download(\"download_caa2124c-d8a4-4f7b-a8d5-67932445fcee\", \"confusion_matrix.png\", 8639)"
            ],
            "text/plain": [
              "<IPython.core.display.Javascript object>"
            ]
          },
          "metadata": {
            "tags": []
          }
        }
      ]
    },
    {
      "cell_type": "code",
      "metadata": {
        "id": "PJuijSe4e3lM",
        "colab_type": "code",
        "colab": {
          "base_uri": "https://localhost:8080/",
          "height": 295
        },
        "outputId": "c985f0d8-6fd2-466c-bba9-caf885cb8b03"
      },
      "source": [
        "false_pos_rate, true_pos_rate, thresholds = roc_curve(error_df.True_class, error_df.Reconstruction_error)\n",
        "roc_auc = auc(false_pos_rate, true_pos_rate,)\n",
        "roc = plt.figure()\n",
        "plt.plot(false_pos_rate, true_pos_rate, linewidth=5, label='AUC = %0.3f'% roc_auc)\n",
        "plt.plot([0,1],[0,1], linewidth=5)\n",
        "\n",
        "plt.xlim([-0.01, 1])\n",
        "plt.ylim([0, 1.01])\n",
        "plt.legend(loc='lower right')\n",
        "plt.title('Receiver operating characteristic curve (ROC)')\n",
        "plt.ylabel('True Positive Rate')\n",
        "plt.xlabel('False Positive Rate')\n",
        "roc.show()\n",
        "roc.savefig('ROC.png')\n",
        "files.download('ROC.png')"
      ],
      "execution_count": null,
      "outputs": [
        {
          "output_type": "display_data",
          "data": {
            "application/javascript": [
              "\n",
              "    async function download(id, filename, size) {\n",
              "      if (!google.colab.kernel.accessAllowed) {\n",
              "        return;\n",
              "      }\n",
              "      const div = document.createElement('div');\n",
              "      const label = document.createElement('label');\n",
              "      label.textContent = `Downloading \"${filename}\": `;\n",
              "      div.appendChild(label);\n",
              "      const progress = document.createElement('progress');\n",
              "      progress.max = size;\n",
              "      div.appendChild(progress);\n",
              "      document.body.appendChild(div);\n",
              "\n",
              "      const buffers = [];\n",
              "      let downloaded = 0;\n",
              "\n",
              "      const channel = await google.colab.kernel.comms.open(id);\n",
              "      // Send a message to notify the kernel that we're ready.\n",
              "      channel.send({})\n",
              "\n",
              "      for await (const message of channel.messages) {\n",
              "        // Send a message to notify the kernel that we're ready.\n",
              "        channel.send({})\n",
              "        if (message.buffers) {\n",
              "          for (const buffer of message.buffers) {\n",
              "            buffers.push(buffer);\n",
              "            downloaded += buffer.byteLength;\n",
              "            progress.value = downloaded;\n",
              "          }\n",
              "        }\n",
              "      }\n",
              "      const blob = new Blob(buffers, {type: 'application/binary'});\n",
              "      const a = document.createElement('a');\n",
              "      a.href = window.URL.createObjectURL(blob);\n",
              "      a.download = filename;\n",
              "      div.appendChild(a);\n",
              "      a.click();\n",
              "      div.remove();\n",
              "    }\n",
              "  "
            ],
            "text/plain": [
              "<IPython.core.display.Javascript object>"
            ]
          },
          "metadata": {
            "tags": []
          }
        },
        {
          "output_type": "display_data",
          "data": {
            "application/javascript": [
              "download(\"download_32b4dfe8-cd5e-4aaa-a16b-3e4b009219b5\", \"ROC.png\", 19769)"
            ],
            "text/plain": [
              "<IPython.core.display.Javascript object>"
            ]
          },
          "metadata": {
            "tags": []
          }
        },
        {
          "output_type": "display_data",
          "data": {
            "image/png": "[encoded data removed]",
            "text/plain": [
              "<Figure size 432x288 with 1 Axes>"
            ]
          },
          "metadata": {
            "tags": [],
            "needs_background": "light"
          }
        }
      ]
    },
    {
      "cell_type": "code",
      "metadata": {
        "id": "Ig3wltrzFOi9",
        "colab_type": "code",
        "colab": {}
      },
      "source": [
        ""
      ],
      "execution_count": null,
      "outputs": []
    }
  ]
}